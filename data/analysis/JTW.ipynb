{
 "cells": [
  {
   "cell_type": "code",
   "execution_count": 1,
   "metadata": {
    "collapsed": true
   },
   "outputs": [],
   "source": [
    "%matplotlib inline"
   ]
  },
  {
   "cell_type": "code",
   "execution_count": 2,
   "metadata": {},
   "outputs": [],
   "source": [
    "import pandas as pd"
   ]
  },
  {
   "cell_type": "markdown",
   "metadata": {},
   "source": [
    "# Inputs"
   ]
  },
  {
   "cell_type": "markdown",
   "metadata": {},
   "source": [
    "## JTW data"
   ]
  },
  {
   "cell_type": "code",
   "execution_count": 3,
   "metadata": {
    "collapsed": true
   },
   "outputs": [],
   "source": [
    "jtw_filepath = r'D:\\Users\\Work\\OneDrive - Transport Systems Catapult\\Modelling\\Modelling Data\\Census\\JTW\\wu03ew_v2\\wu03ew_v2.csv'"
   ]
  },
  {
   "cell_type": "code",
   "execution_count": 4,
   "metadata": {
    "collapsed": true
   },
   "outputs": [],
   "source": [
    "jtw = pd.read_csv(jtw_filepath)"
   ]
  },
  {
   "cell_type": "code",
   "execution_count": 8,
   "metadata": {},
   "outputs": [
    {
     "data": {
      "text/html": [
       "<div>\n",
       "<style>\n",
       "    .dataframe thead tr:only-child th {\n",
       "        text-align: right;\n",
       "    }\n",
       "\n",
       "    .dataframe thead th {\n",
       "        text-align: left;\n",
       "    }\n",
       "\n",
       "    .dataframe tbody tr th {\n",
       "        vertical-align: top;\n",
       "    }\n",
       "</style>\n",
       "<table border=\"1\" class=\"dataframe\">\n",
       "  <thead>\n",
       "    <tr style=\"text-align: right;\">\n",
       "      <th></th>\n",
       "      <th></th>\n",
       "      <th></th>\n",
       "      <th>Trips</th>\n",
       "    </tr>\n",
       "    <tr>\n",
       "      <th>Residence</th>\n",
       "      <th>Workplace</th>\n",
       "      <th>Mode</th>\n",
       "      <th></th>\n",
       "    </tr>\n",
       "  </thead>\n",
       "  <tbody>\n",
       "    <tr>\n",
       "      <th rowspan=\"5\" valign=\"top\">E02000001</th>\n",
       "      <th rowspan=\"5\" valign=\"top\">E02000001</th>\n",
       "      <th>From_home</th>\n",
       "      <td>0</td>\n",
       "    </tr>\n",
       "    <tr>\n",
       "      <th>Tube</th>\n",
       "      <td>73</td>\n",
       "    </tr>\n",
       "    <tr>\n",
       "      <th>Train</th>\n",
       "      <td>41</td>\n",
       "    </tr>\n",
       "    <tr>\n",
       "      <th>Bus</th>\n",
       "      <td>32</td>\n",
       "    </tr>\n",
       "    <tr>\n",
       "      <th>Taxi</th>\n",
       "      <td>9</td>\n",
       "    </tr>\n",
       "  </tbody>\n",
       "</table>\n",
       "</div>"
      ],
      "text/plain": [
       "                               Trips\n",
       "Residence Workplace Mode            \n",
       "E02000001 E02000001 From_home      0\n",
       "                    Tube          73\n",
       "                    Train         41\n",
       "                    Bus           32\n",
       "                    Taxi           9"
      ]
     },
     "execution_count": 8,
     "metadata": {},
     "output_type": "execute_result"
    }
   ],
   "source": [
    "jtw.set_index(list(jtw.columns[0:2]) , inplace=True)\n",
    "jtw.index.rename(['Residence', 'Workplace'], level=[0,1], inplace=True)\n",
    "\n",
    "jtw.drop(jtw.columns[0], axis=1, inplace=True)\n",
    "\n",
    "modes = ['From_home', 'Tube', 'Train', 'Bus', 'Taxi', 'Motorbike', 'Car_driver', 'Car_pas', 'Cycle', 'Foot', 'Other']\n",
    "d = dict(zip(jtw.columns.values, modes))\n",
    "jtw.rename(columns=d, inplace=True)\n",
    "jtw.columns.name = 'Mode'\n",
    "jtw = jtw.stack()\n",
    "jtw.name = 'Trips'\n",
    "\n",
    "# Convert Mode to category\n",
    "jtw = jtw.reset_index()\n",
    "jtw.Mode = jtw.Mode.astype('category')\n",
    "\n",
    "jtw.set_index(list(jtw.columns[0:3]), inplace=True)\n",
    "jtw.head()"
   ]
  },
  {
   "cell_type": "markdown",
   "metadata": {},
   "source": [
    "## Lookups"
   ]
  },
  {
   "cell_type": "code",
   "execution_count": 9,
   "metadata": {
    "collapsed": true
   },
   "outputs": [],
   "source": [
    "lookup = {}"
   ]
  },
  {
   "cell_type": "code",
   "execution_count": 10,
   "metadata": {
    "collapsed": true
   },
   "outputs": [],
   "source": [
    "lookup_OA_filepath = r'D:\\Users\\work\\OneDrive - Transport Systems Catapult\\Modelling\\Modelling Data\\GIS\\Boundaries\\Lookups\\OA\\OA11_LSOA11_MSOA11_LAD11_EW_LUv2.csv'"
   ]
  },
  {
   "cell_type": "code",
   "execution_count": 11,
   "metadata": {},
   "outputs": [
    {
     "name": "stderr",
     "output_type": "stream",
     "text": [
      "C:\\Users\\Work\\Miniconda3\\envs\\py3\\lib\\site-packages\\IPython\\core\\interactiveshell.py:2698: DtypeWarning: Columns (7) have mixed types. Specify dtype option on import or set low_memory=False.\n",
      "  interactivity=interactivity, compiler=compiler, result=result)\n"
     ]
    }
   ],
   "source": [
    "lookup_master = pd.read_csv(lookup_OA_filepath, encoding='ISO-8859-1')"
   ]
  }
 ],
 "metadata": {
  "kernelspec": {
   "display_name": "Python 3",
   "language": "python",
   "name": "python3"
  },
  "language_info": {
   "codemirror_mode": {
    "name": "ipython",
    "version": 3
   },
   "file_extension": ".py",
   "mimetype": "text/x-python",
   "name": "python",
   "nbconvert_exporter": "python",
   "pygments_lexer": "ipython3",
   "version": "3.6.1"
  }
 },
 "nbformat": 4,
 "nbformat_minor": 2
}
