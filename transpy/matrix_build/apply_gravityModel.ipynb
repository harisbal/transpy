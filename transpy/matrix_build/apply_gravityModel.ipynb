{
 "cells": [
  {
   "cell_type": "code",
   "execution_count": 1,
   "metadata": {
    "collapsed": true
   },
   "outputs": [],
   "source": [
    "%matplotlib inline"
   ]
  },
  {
   "cell_type": "code",
   "execution_count": 2,
   "metadata": {
    "collapsed": true
   },
   "outputs": [],
   "source": [
    "import os\n",
    "import numpy as np\n",
    "import pandas as pd\n",
    "import ipfn"
   ]
  },
  {
   "cell_type": "markdown",
   "metadata": {},
   "source": [
    "# Imports"
   ]
  },
  {
   "cell_type": "code",
   "execution_count": 3,
   "metadata": {
    "collapsed": true
   },
   "outputs": [],
   "source": [
    "userhome = os.path.expanduser('~')\n",
    "userhome = userhome.replace('C:', 'D:')"
   ]
  },
  {
   "cell_type": "code",
   "execution_count": 4,
   "metadata": {
    "collapsed": true
   },
   "outputs": [],
   "source": [
    "infolder = os.path.join(userhome, r'OneDrive - Transport Systems Catapult\\Modelling\\Data\\GIS\\Boundaries\\Lookups\\OA')\n",
    "infilepath = os.path.join(infolder, 'OA11_LSOA11_MSOA11_LAD11_EW_LUv2.csv')\n",
    "\n",
    "lu = pd.read_csv(infilepath)\n",
    "\n",
    "lookups = {}\n",
    "lu = lu[lu.columns[3:]].drop_duplicates()\n",
    "lu.set_index('MSOA11CD', inplace=True)\n",
    "lookups['MSOA11CD'] = lu"
   ]
  },
  {
   "cell_type": "code",
   "execution_count": 5,
   "metadata": {
    "scrolled": true
   },
   "outputs": [
    {
     "data": {
      "text/html": [
       "<div>\n",
       "<style>\n",
       "    .dataframe thead tr:only-child th {\n",
       "        text-align: right;\n",
       "    }\n",
       "\n",
       "    .dataframe thead th {\n",
       "        text-align: left;\n",
       "    }\n",
       "\n",
       "    .dataframe tbody tr th {\n",
       "        vertical-align: top;\n",
       "    }\n",
       "</style>\n",
       "<table border=\"1\" class=\"dataframe\">\n",
       "  <thead>\n",
       "    <tr style=\"text-align: right;\">\n",
       "      <th></th>\n",
       "      <th></th>\n",
       "      <th></th>\n",
       "      <th></th>\n",
       "      <th></th>\n",
       "      <th>TripEnds</th>\n",
       "    </tr>\n",
       "    <tr>\n",
       "      <th>MSOA11CD</th>\n",
       "      <th>Purpose</th>\n",
       "      <th>Mode</th>\n",
       "      <th>TimePeriod</th>\n",
       "      <th>TripType</th>\n",
       "      <th></th>\n",
       "    </tr>\n",
       "  </thead>\n",
       "  <tbody>\n",
       "    <tr>\n",
       "      <th rowspan=\"2\" valign=\"top\">E02000001</th>\n",
       "      <th rowspan=\"2\" valign=\"top\">HBO</th>\n",
       "      <th rowspan=\"2\" valign=\"top\">Bus</th>\n",
       "      <th rowspan=\"2\" valign=\"top\">AM</th>\n",
       "      <th>D</th>\n",
       "      <td>2325.83987</td>\n",
       "    </tr>\n",
       "    <tr>\n",
       "      <th>O</th>\n",
       "      <td>910.49436</td>\n",
       "    </tr>\n",
       "  </tbody>\n",
       "</table>\n",
       "</div>"
      ],
      "text/plain": [
       "                                              TripEnds\n",
       "MSOA11CD  Purpose Mode TimePeriod TripType            \n",
       "E02000001 HBO     Bus  AM         D         2325.83987\n",
       "                                  O          910.49436"
      ]
     },
     "execution_count": 5,
     "metadata": {},
     "output_type": "execute_result"
    }
   ],
   "source": [
    "infolder = r'inputs'\n",
    "infile = r'tripends_msoas_2026_purpose_mode_time.csv'\n",
    "infilepath = os.path.join(infolder, infile)\n",
    "\n",
    "tripends = pd.read_csv(infilepath, index_col=[0, 1, 2, 3, 4])\n",
    "tripends.head(2)"
   ]
  },
  {
   "cell_type": "code",
   "execution_count": 6,
   "metadata": {
    "scrolled": true
   },
   "outputs": [
    {
     "data": {
      "text/html": [
       "<div>\n",
       "<style>\n",
       "    .dataframe thead tr:only-child th {\n",
       "        text-align: right;\n",
       "    }\n",
       "\n",
       "    .dataframe thead th {\n",
       "        text-align: left;\n",
       "    }\n",
       "\n",
       "    .dataframe tbody tr th {\n",
       "        vertical-align: top;\n",
       "    }\n",
       "</style>\n",
       "<table border=\"1\" class=\"dataframe\">\n",
       "  <thead>\n",
       "    <tr style=\"text-align: right;\">\n",
       "      <th></th>\n",
       "      <th></th>\n",
       "      <th></th>\n",
       "      <th>GroupPercentage</th>\n",
       "    </tr>\n",
       "    <tr>\n",
       "      <th>Mode</th>\n",
       "      <th>Purpose</th>\n",
       "      <th>DistanceBand</th>\n",
       "      <th></th>\n",
       "    </tr>\n",
       "  </thead>\n",
       "  <tbody>\n",
       "    <tr>\n",
       "      <th rowspan=\"2\" valign=\"top\">Bus</th>\n",
       "      <th rowspan=\"2\" valign=\"top\">HBO</th>\n",
       "      <th>[0.0, 1.0)</th>\n",
       "      <td>0.046845</td>\n",
       "    </tr>\n",
       "    <tr>\n",
       "      <th>[1.0, 2.0)</th>\n",
       "      <td>0.252021</td>\n",
       "    </tr>\n",
       "  </tbody>\n",
       "</table>\n",
       "</div>"
      ],
      "text/plain": [
       "                           GroupPercentage\n",
       "Mode Purpose DistanceBand                 \n",
       "Bus  HBO     [0.0, 1.0)           0.046845\n",
       "             [1.0, 2.0)           0.252021"
      ]
     },
     "execution_count": 6,
     "metadata": {},
     "output_type": "execute_result"
    }
   ],
   "source": [
    "infile = r'tlds_purpose_mode.csv'\n",
    "infilepath = os.path.join(infolder, infile)\n",
    "\n",
    "tlds = pd.read_csv(infilepath, index_col=[0, 1, 2])\n",
    "# Rename for consistency\n",
    "tlds.index.names = ['Mode', 'Purpose', 'DistanceBand']\n",
    "tlds.columns = ['GroupPercentage']\n",
    "tlds.head(2)"
   ]
  },
  {
   "cell_type": "code",
   "execution_count": 7,
   "metadata": {},
   "outputs": [
    {
     "data": {
      "text/html": [
       "<div>\n",
       "<style>\n",
       "    .dataframe thead tr:only-child th {\n",
       "        text-align: right;\n",
       "    }\n",
       "\n",
       "    .dataframe thead th {\n",
       "        text-align: left;\n",
       "    }\n",
       "\n",
       "    .dataframe tbody tr th {\n",
       "        vertical-align: top;\n",
       "    }\n",
       "</style>\n",
       "<table border=\"1\" class=\"dataframe\">\n",
       "  <thead>\n",
       "    <tr style=\"text-align: right;\">\n",
       "      <th></th>\n",
       "      <th></th>\n",
       "      <th>Distance_miles</th>\n",
       "    </tr>\n",
       "    <tr>\n",
       "      <th>orig_zoneID</th>\n",
       "      <th>dest_zoneID</th>\n",
       "      <th></th>\n",
       "    </tr>\n",
       "  </thead>\n",
       "  <tbody>\n",
       "    <tr>\n",
       "      <th rowspan=\"2\" valign=\"top\">E02000001</th>\n",
       "      <th>E02000001</th>\n",
       "      <td>0.00</td>\n",
       "    </tr>\n",
       "    <tr>\n",
       "      <th>E02000576</th>\n",
       "      <td>0.68</td>\n",
       "    </tr>\n",
       "  </tbody>\n",
       "</table>\n",
       "</div>"
      ],
      "text/plain": [
       "                         Distance_miles\n",
       "orig_zoneID dest_zoneID                \n",
       "E02000001   E02000001              0.00\n",
       "            E02000576              0.68"
      ]
     },
     "execution_count": 7,
     "metadata": {},
     "output_type": "execute_result"
    }
   ],
   "source": [
    "infile = r'distance_matrix_msoas_london.csv'\n",
    "infilepath = os.path.join(infolder, infile)\n",
    "\n",
    "distance_matrix = pd.read_csv(infilepath, index_col=[0, 1])\n",
    "distance_matrix.head(2)"
   ]
  },
  {
   "cell_type": "code",
   "execution_count": 8,
   "metadata": {
    "collapsed": true
   },
   "outputs": [],
   "source": [
    "#TODO improve intrazonal distance (from 0 to 1 mile)\n",
    "distance_matrix.Distance_miles.replace(0, 1, inplace=True)"
   ]
  },
  {
   "cell_type": "markdown",
   "metadata": {},
   "source": [
    "## Gravity Model"
   ]
  },
  {
   "cell_type": "code",
   "execution_count": 9,
   "metadata": {
    "collapsed": true
   },
   "outputs": [],
   "source": [
    "idxslc = pd.IndexSlice"
   ]
  },
  {
   "cell_type": "code",
   "execution_count": 10,
   "metadata": {
    "collapsed": true
   },
   "outputs": [],
   "source": [
    "beta = 0.1\n",
    "cost_matrix = np.exp((-beta*distance_matrix.Distance_miles))"
   ]
  },
  {
   "cell_type": "code",
   "execution_count": 11,
   "metadata": {
    "collapsed": true
   },
   "outputs": [],
   "source": [
    "def create_seed_matrix(cost_matrix, origs):\n",
    "    df = cost_matrix.div(cost_matrix.sum()).mul(origs.sum())\n",
    "    return df"
   ]
  },
  {
   "cell_type": "code",
   "execution_count": 12,
   "metadata": {
    "collapsed": true
   },
   "outputs": [],
   "source": [
    "def balance_dests(origs, dests, balance_internal_zones=True, internal_zones=None, verbose=True):\n",
    "    if not balance_internal_zones and len(internal_zones) > 0:\n",
    "        # Exclude the internal zone dests from the sum\n",
    "        external_zones_bool = ~dests.index.get_level_values(0).isin(internal_zones)\n",
    "        dests_external = dests[external_zones_bool]\n",
    "        dests_internal = dests[internal_zones]\n",
    "        dests_tot = dests_external.sum()\n",
    "        \n",
    "        # The destinations of the internal zones must be excluded from the sum\n",
    "        balance_factor = (origs.sum() - dests_internal.sum()) / dests_tot\n",
    "        # Apply the factor only to the external zones\n",
    "        dests[external_zones_bool] *= balance_factor\n",
    "    \n",
    "    else:\n",
    "        dests_tot = dests.sum()\n",
    "        balance_factor = origs.sum() / dests_tot\n",
    "        dests *= balance_factor\n",
    "    \n",
    "    if verbose:\n",
    "        if ((balance_factor >= 1.05) or (balance_factor <= 0.95)):\n",
    "            print('Origs/Dests factor: {}'.format(balance_factor))\n",
    "            \n",
    "    return dests"
   ]
  },
  {
   "cell_type": "code",
   "execution_count": 13,
   "metadata": {
    "collapsed": true
   },
   "outputs": [],
   "source": [
    "def append_distance_band(trips, dists, bins):\n",
    "    df = pd.merge(trips.to_frame(), dists, left_index=True, right_index=True)\n",
    "    dist_bands = df.Distance_miles.transform(lambda x: pd.cut(x, bins, right=False))\n",
    "    df['DistanceBand'] = dist_bands \n",
    "    return df"
   ]
  },
  {
   "cell_type": "code",
   "execution_count": 14,
   "metadata": {
    "collapsed": true
   },
   "outputs": [],
   "source": [
    "def get_distance_bins(grpd_dists_df):\n",
    "    lbls = [l for l in grpd_dists_df.index]\n",
    "    bins = []\n",
    "    for lbl in lbls:\n",
    "        tmp = lbl\n",
    "        for ch in '[ ] ( )'.split():\n",
    "            tmp = tmp.replace(ch, '')\n",
    "        lower, upper = tmp.split(',')\n",
    "        lower = float(lower)\n",
    "        upper = float(upper)\n",
    "        bins.append(lower)\n",
    "        bins.append(upper)\n",
    "    \n",
    "    bins = list(set(bins))\n",
    "    bins.sort()\n",
    "    return bins"
   ]
  },
  {
   "cell_type": "code",
   "execution_count": 15,
   "metadata": {
    "collapsed": true
   },
   "outputs": [],
   "source": [
    "def to_interval_index(df, closed='left'):\n",
    "    import re\n",
    "    \n",
    "    idx = df.index\n",
    "    idx_name = idx.name\n",
    "    \n",
    "    p = re.compile('[-+]?\\d*\\.\\d+|\\d+')\n",
    "    lower = [float((p.findall(interv)[0])) for interv in idx]\n",
    "    upper = [float((p.findall(interv)[1])) for interv in idx]\n",
    "\n",
    "    intervIdx = pd.IntervalIndex.from_arrays(lower, upper, closed=closed)\n",
    "    \n",
    "    df.index = intervIdx\n",
    "    df.index.name = idx_name\n",
    "\n",
    "    return df"
   ]
  },
  {
   "cell_type": "code",
   "execution_count": 16,
   "metadata": {
    "collapsed": true
   },
   "outputs": [],
   "source": [
    "def furness(df, aggrs, dims, **kwargs):\n",
    "    \n",
    "    conv_rate = kwargs['convergence_rate']\n",
    "    max_iter = kwargs['max_iteration']\n",
    "    weight_col = kwargs['weight_col']\n",
    "    verbose = kwargs['verbose']\n",
    "    \n",
    "    df = df.reset_index().copy() \n",
    "    ipf = ipfn.ipfn(df, aggregates, dimensions, convergence_rate=conv_rate,\n",
    "                    max_iteration=max_iter, weight_col=weight_col, verbose=verbose)\n",
    "    df_ipf = ipf.iteration()\n",
    "    \n",
    "    return df_ipf\n",
    "    "
   ]
  },
  {
   "cell_type": "code",
   "execution_count": 17,
   "metadata": {},
   "outputs": [
    {
     "data": {
      "text/html": [
       "<div>\n",
       "<style>\n",
       "    .dataframe thead tr:only-child th {\n",
       "        text-align: right;\n",
       "    }\n",
       "\n",
       "    .dataframe thead th {\n",
       "        text-align: left;\n",
       "    }\n",
       "\n",
       "    .dataframe tbody tr th {\n",
       "        vertical-align: top;\n",
       "    }\n",
       "</style>\n",
       "<table border=\"1\" class=\"dataframe\">\n",
       "  <thead>\n",
       "    <tr style=\"text-align: right;\">\n",
       "      <th></th>\n",
       "      <th>MSOA11NM</th>\n",
       "      <th>LAD11CD</th>\n",
       "      <th>LAD11NM</th>\n",
       "    </tr>\n",
       "    <tr>\n",
       "      <th>MSOA11CD</th>\n",
       "      <th></th>\n",
       "      <th></th>\n",
       "      <th></th>\n",
       "    </tr>\n",
       "  </thead>\n",
       "  <tbody>\n",
       "    <tr>\n",
       "      <th>E02000320</th>\n",
       "      <td>Greenwich 008</td>\n",
       "      <td>E09000011</td>\n",
       "      <td>Greenwich</td>\n",
       "    </tr>\n",
       "    <tr>\n",
       "      <th>E02000315</th>\n",
       "      <td>Greenwich 003</td>\n",
       "      <td>E09000011</td>\n",
       "      <td>Greenwich</td>\n",
       "    </tr>\n",
       "    <tr>\n",
       "      <th>E02000328</th>\n",
       "      <td>Greenwich 016</td>\n",
       "      <td>E09000011</td>\n",
       "      <td>Greenwich</td>\n",
       "    </tr>\n",
       "    <tr>\n",
       "      <th>E02000333</th>\n",
       "      <td>Greenwich 021</td>\n",
       "      <td>E09000011</td>\n",
       "      <td>Greenwich</td>\n",
       "    </tr>\n",
       "    <tr>\n",
       "      <th>E02000326</th>\n",
       "      <td>Greenwich 014</td>\n",
       "      <td>E09000011</td>\n",
       "      <td>Greenwich</td>\n",
       "    </tr>\n",
       "  </tbody>\n",
       "</table>\n",
       "</div>"
      ],
      "text/plain": [
       "                MSOA11NM    LAD11CD    LAD11NM\n",
       "MSOA11CD                                      \n",
       "E02000320  Greenwich 008  E09000011  Greenwich\n",
       "E02000315  Greenwich 003  E09000011  Greenwich\n",
       "E02000328  Greenwich 016  E09000011  Greenwich\n",
       "E02000333  Greenwich 021  E09000011  Greenwich\n",
       "E02000326  Greenwich 014  E09000011  Greenwich"
      ]
     },
     "execution_count": 17,
     "metadata": {},
     "output_type": "execute_result"
    }
   ],
   "source": [
    "# Zones in Greenwich District\n",
    "lu = lookups['MSOA11CD']\n",
    "internal_zones = lu[lu.LAD11NM == 'Greenwich']\n",
    "internal_zones.head()"
   ]
  },
  {
   "cell_type": "code",
   "execution_count": 21,
   "metadata": {
    "collapsed": true
   },
   "outputs": [],
   "source": [
    "# Filter the ipfn inputs\n",
    "filter_modes = ['CarDriver', 'CarPass', 'Bus']"
   ]
  },
  {
   "cell_type": "code",
   "execution_count": 22,
   "metadata": {
    "scrolled": true
   },
   "outputs": [
    {
     "name": "stdout",
     "output_type": "stream",
     "text": [
      "ipfn converged\n",
      "('HBO', 'Bus', 'AM'):0.05\n",
      "ipfn converged\n",
      "('HBO', 'Bus', 'IP'):0.05\n",
      "ipfn converged\n",
      "('HBO', 'Bus', 'OP'):0.05\n",
      "ipfn converged\n",
      "('HBO', 'Bus', 'PM'):0.05\n",
      "Origs/Dests factor: 0.8469248597074569\n",
      "ipfn converged\n",
      "('HBO', 'CarDriver', 'AM'):0.05\n",
      "ipfn converged\n",
      "('HBO', 'CarDriver', 'IP'):0.05\n",
      "Origs/Dests factor: 1.0799302470265013\n",
      "ipfn converged\n",
      "('HBO', 'CarDriver', 'OP'):0.05\n",
      "ipfn converged\n",
      "('HBO', 'CarDriver', 'PM'):0.05\n",
      "Origs/Dests factor: 1.1747532678064179\n",
      "ipfn converged\n",
      "('HBO', 'CarPass', 'AM'):0.05\n",
      "Origs/Dests factor: 0.9482016209674299\n",
      "ipfn converged\n",
      "('HBO', 'CarPass', 'IP'):0.05\n",
      "ipfn converged\n",
      "('HBO', 'CarPass', 'OP'):0.05\n",
      "Origs/Dests factor: 0.931985916759954\n",
      "ipfn converged\n",
      "('HBO', 'CarPass', 'PM'):0.05\n",
      "ipfn converged\n",
      "('HBW', 'Bus', 'AM'):0.05\n",
      "ipfn converged\n",
      "('HBW', 'Bus', 'IP'):0.05\n",
      "ipfn converged\n",
      "('HBW', 'Bus', 'OP'):0.05\n",
      "ipfn converged\n",
      "('HBW', 'Bus', 'PM'):0.05\n",
      "ipfn converged\n",
      "('HBW', 'CarDriver', 'AM'):0.05\n",
      "ipfn converged\n",
      "('HBW', 'CarDriver', 'IP'):0.05\n",
      "ipfn converged\n",
      "('HBW', 'CarDriver', 'OP'):0.05\n",
      "ipfn converged\n",
      "('HBW', 'CarDriver', 'PM'):0.05\n",
      "Origs/Dests factor: 1.1697850992337304\n",
      "ipfn converged\n",
      "('HBW', 'CarPass', 'AM'):0.05\n",
      "Origs/Dests factor: 0.9071595935472581\n",
      "ipfn converged\n",
      "('HBW', 'CarPass', 'IP'):0.05\n",
      "ipfn converged\n",
      "('HBW', 'CarPass', 'OP'):0.05\n",
      "Origs/Dests factor: 0.836339618272996\n",
      "ipfn converged\n",
      "('HBW', 'CarPass', 'PM'):0.05\n",
      "Origs/Dests factor: 1.1948903373958415\n",
      "ipfn converged\n",
      "('NHB', 'Bus', 'AM'):0.05\n",
      "Origs/Dests factor: 0.8498584002769266\n",
      "ipfn converged\n",
      "('NHB', 'Bus', 'IP'):0.05\n",
      "ipfn converged\n",
      "('NHB', 'Bus', 'OP'):0.05\n",
      "Origs/Dests factor: 0.904741165449229\n",
      "ipfn converged\n",
      "('NHB', 'Bus', 'PM'):0.05\n",
      "Origs/Dests factor: 0.841494425052278\n",
      "ipfn converged\n",
      "('NHB', 'CarDriver', 'AM'):0.05\n",
      "ipfn converged\n",
      "('NHB', 'CarDriver', 'IP'):0.05\n",
      "Origs/Dests factor: 1.149839983060924\n",
      "ipfn converged\n",
      "('NHB', 'CarDriver', 'OP'):0.05\n",
      "ipfn converged\n",
      "('NHB', 'CarDriver', 'PM'):0.05\n",
      "ipfn converged\n",
      "('NHB', 'CarPass', 'AM'):0.05\n",
      "ipfn converged\n",
      "('NHB', 'CarPass', 'IP'):0.05\n",
      "Origs/Dests factor: 1.5577282401688024\n",
      "ipfn converged\n",
      "('NHB', 'CarPass', 'OP'):0.05\n",
      "Origs/Dests factor: 1.2183170335006548\n",
      "ipfn converged\n",
      "('NHB', 'CarPass', 'PM'):0.05\n",
      "end\n"
     ]
    }
   ],
   "source": [
    "gtripends = tripends.groupby(level=['Purpose', 'Mode', 'TimePeriod'])\n",
    "\n",
    "conv_rates = [0.05, 0.1, 0.15, 0.2, 0.3, 0.35]\n",
    "\n",
    "ipfn_results = {}\n",
    "\n",
    "for k, g in gtripends:\n",
    "    purp , md, tp = k\n",
    "    \n",
    "    if md in filter_modes:\n",
    "        xs_lvls = ['Purpose', 'Mode', 'TimePeriod', 'TripType']\n",
    "        origs = g.xs([purp, md, tp, 'O'], level=xs_lvls).squeeze()\n",
    "        dests = g.xs([purp, md, tp, 'D'], level=xs_lvls).squeeze()\n",
    "        origs.index.name = 'orig_zoneID'\n",
    "        dests.index.name = 'dest_zoneID'\n",
    "\n",
    "        dests_orig = dests.copy()\n",
    "        dests = balance_dests(origs, dests, balance_internal_zones=False,\n",
    "                              internal_zones=internal_zones.index)\n",
    "\n",
    "        # Keep a factor of the modification\n",
    "        dests_factor = dests.div(dests_orig)\n",
    "        \n",
    "        seed_matrix = create_seed_matrix(cost_matrix, origs).squeeze()\n",
    "        seed_matrix.name = 'Trips'\n",
    "        \n",
    "        dist_band_percs = tlds.xs([purp, md], level=['Purpose', 'Mode']).squeeze()\n",
    "        bins = get_distance_bins(dist_band_percs)\n",
    "\n",
    "        seed_matrix_banded = append_distance_band(seed_matrix, distance_matrix, bins)\n",
    "        seed_matrix_banded.drop('Distance_miles', axis=1, inplace=True)\n",
    "\n",
    "        # Convert percentages to trips\n",
    "        dist_band_trips = dist_band_percs.mul(seed_matrix_banded.Trips.sum())\n",
    "        dist_band_trips.name = 'Trips'\n",
    "\n",
    "        # Convert df's index to IntervalIndex\n",
    "        dist_band_trips = to_interval_index(dist_band_trips)\n",
    "\n",
    "        dimensions = [['orig_zoneID'], ['dest_zoneID'], ['DistanceBand']]\n",
    "        aggregates = [origs, dests, dist_band_trips]\n",
    "        \n",
    "        for cr in conv_rates:\n",
    "            df_furnessed, converged = furness(seed_matrix_banded, dims=dimensions, aggrs=aggregates, convergence_rate=cr,\n",
    "                                              max_iteration=50, weight_col='Trips', verbose=1)\n",
    "\n",
    "            \n",
    "            ipfn_results.setdefault('matrix', {})[k] = df_furnessed.copy()\n",
    "            ipfn_results.setdefault('origs', {})[k] = origs.copy()\n",
    "            ipfn_results.setdefault('dests', {})[k] = dests.copy()\n",
    "            ipfn_results.setdefault('dests_factor', {})[k] = dests_factor.copy()\n",
    "            \n",
    "            if converged==1:\n",
    "                ipfn_results.setdefault('conv_rate', {})[k] = cr\n",
    "                print('{}:{}'.format(k, cr))\n",
    "                break\n",
    "            else:\n",
    "                ipfn_results.setdefault('conv_rate', {})[k] = -1\n",
    "                print('{}:-1'.format(k))\n",
    "\n",
    "print('end')"
   ]
  },
  {
   "cell_type": "code",
   "execution_count": 23,
   "metadata": {
    "collapsed": true
   },
   "outputs": [],
   "source": [
    "results = ipfn_results['matrix'].copy()\n",
    "dfs = []\n",
    "\n",
    "for k, item in results.items():\n",
    "    df = item.copy()\n",
    "    purp , md, tp = k\n",
    "    df.drop('DistanceBand', axis=1, inplace=True)\n",
    "    df.insert(2, 'TimePeriod', tp)\n",
    "    df.insert(2, 'Mode', md)\n",
    "    df.insert(2, 'Purpose', purp)\n",
    "    \n",
    "    dfs.append(df)\n",
    "    \n",
    "OD_mats = pd.concat(dfs)\n",
    "idx_cols = ['orig_zoneID', 'dest_zoneID', 'Purpose', 'Mode', 'TimePeriod']\n",
    "OD_mats.set_index(idx_cols, inplace=True)"
   ]
  },
  {
   "cell_type": "markdown",
   "metadata": {},
   "source": [
    "## Export"
   ]
  },
  {
   "cell_type": "code",
   "execution_count": 24,
   "metadata": {
    "collapsed": true
   },
   "outputs": [],
   "source": [
    "outfolder = r'../../MATSim/Synthetic Pop/Building/inputs'\n",
    "outfile = 'ODs_purpose_mode_timeperiod.csv'\n",
    "outfilepath = os.path.join(outfolder, outfile)"
   ]
  },
  {
   "cell_type": "code",
   "execution_count": 25,
   "metadata": {
    "collapsed": true
   },
   "outputs": [],
   "source": [
    "OD_mats.to_csv(outfilepath)"
   ]
  }
 ],
 "metadata": {
  "kernelspec": {
   "display_name": "Python [default]",
   "language": "python",
   "name": "python3"
  },
  "language_info": {
   "codemirror_mode": {
    "name": "ipython",
    "version": 3
   },
   "file_extension": ".py",
   "mimetype": "text/x-python",
   "name": "python",
   "nbconvert_exporter": "python",
   "pygments_lexer": "ipython3",
   "version": "3.6.1"
  }
 },
 "nbformat": 4,
 "nbformat_minor": 2
}
