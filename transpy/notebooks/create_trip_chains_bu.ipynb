{
 "cells": [
  {
   "cell_type": "code",
   "execution_count": 1,
   "metadata": {},
   "outputs": [],
   "source": [
    "%matplotlib inline"
   ]
  },
  {
   "cell_type": "code",
   "execution_count": 2,
   "metadata": {},
   "outputs": [],
   "source": [
    "import pandas as pd\n",
    "import networkx as nx\n",
    "\n",
    "from itertools import tee"
   ]
  },
  {
   "cell_type": "code",
   "execution_count": 3,
   "metadata": {},
   "outputs": [],
   "source": [
    "def pairwise(iterable):\n",
    "    \"s -> (s0,s1), (s1,s2), (s2, s3), ...\"\n",
    "    a, b = tee(iterable)\n",
    "    next(b, None)\n",
    "    return zip(a, b)"
   ]
  },
  {
   "cell_type": "code",
   "execution_count": 4,
   "metadata": {},
   "outputs": [],
   "source": [
    "infilepath = r'/mnt/sda1/Users/Work/Temp/ODs_purpose_mode_timeperiod.csv'"
   ]
  },
  {
   "cell_type": "code",
   "execution_count": 5,
   "metadata": {},
   "outputs": [],
   "source": [
    "odtemp = pd.read_csv(infilepath, nrows=5)"
   ]
  },
  {
   "cell_type": "code",
   "execution_count": 6,
   "metadata": {},
   "outputs": [],
   "source": [
    "dtypes_keys = list(odtemp.columns)\n",
    "dtypes_vals = ['category', 'category', 'category',\n",
    "               'category', 'category', 'float']\n",
    "\n",
    "dtypes = dict(zip(dtypes_keys, dtypes_vals))\n",
    "\n",
    "od = pd.read_csv(infilepath, index_col=list(range(0, 5)))\n",
    "#od.sort_index(inplace=True)"
   ]
  },
  {
   "cell_type": "code",
   "execution_count": 7,
   "metadata": {},
   "outputs": [
    {
     "data": {
      "text/html": [
       "<div>\n",
       "<style scoped>\n",
       "    .dataframe tbody tr th:only-of-type {\n",
       "        vertical-align: middle;\n",
       "    }\n",
       "\n",
       "    .dataframe tbody tr th {\n",
       "        vertical-align: top;\n",
       "    }\n",
       "\n",
       "    .dataframe thead th {\n",
       "        text-align: right;\n",
       "    }\n",
       "</style>\n",
       "<table border=\"1\" class=\"dataframe\">\n",
       "  <thead>\n",
       "    <tr style=\"text-align: right;\">\n",
       "      <th></th>\n",
       "      <th></th>\n",
       "      <th></th>\n",
       "      <th></th>\n",
       "      <th></th>\n",
       "      <th>Trips</th>\n",
       "    </tr>\n",
       "    <tr>\n",
       "      <th>orig_zoneID</th>\n",
       "      <th>dest_zoneID</th>\n",
       "      <th>Purpose</th>\n",
       "      <th>Mode</th>\n",
       "      <th>TimePeriod</th>\n",
       "      <th></th>\n",
       "    </tr>\n",
       "  </thead>\n",
       "  <tbody>\n",
       "    <tr>\n",
       "      <th rowspan=\"2\" valign=\"top\">E02000001</th>\n",
       "      <th>E02000001</th>\n",
       "      <th>HBO</th>\n",
       "      <th>Bus</th>\n",
       "      <th>AM</th>\n",
       "      <td>20.572919</td>\n",
       "    </tr>\n",
       "    <tr>\n",
       "      <th>E02000576</th>\n",
       "      <th>HBO</th>\n",
       "      <th>Bus</th>\n",
       "      <th>AM</th>\n",
       "      <td>3.849908</td>\n",
       "    </tr>\n",
       "  </tbody>\n",
       "</table>\n",
       "</div>"
      ],
      "text/plain": [
       "                                                     Trips\n",
       "orig_zoneID dest_zoneID Purpose Mode TimePeriod           \n",
       "E02000001   E02000001   HBO     Bus  AM          20.572919\n",
       "            E02000576   HBO     Bus  AM           3.849908"
      ]
     },
     "execution_count": 7,
     "metadata": {},
     "output_type": "execute_result"
    }
   ],
   "source": [
    "od.head(2)"
   ]
  },
  {
   "cell_type": "code",
   "execution_count": 8,
   "metadata": {
    "scrolled": true
   },
   "outputs": [],
   "source": [
    "d_grp_purp = {'HBW': 'HB', 'HBO': 'HB', 'NHB': 'NHB'}\n",
    "grp_keys = [None, None, d_grp_purp, None, None]\n",
    "\n",
    "odg = od.groupby(grp_keys, level=od.index.names).sum()"
   ]
  },
  {
   "cell_type": "code",
   "execution_count": 9,
   "metadata": {},
   "outputs": [],
   "source": [
    "odg.reset_index(inplace=True)\n",
    "odg.Purpose = odg.Purpose.astype('category')"
   ]
  },
  {
   "cell_type": "code",
   "execution_count": 10,
   "metadata": {},
   "outputs": [
    {
     "data": {
      "text/html": [
       "<div>\n",
       "<style scoped>\n",
       "    .dataframe tbody tr th:only-of-type {\n",
       "        vertical-align: middle;\n",
       "    }\n",
       "\n",
       "    .dataframe tbody tr th {\n",
       "        vertical-align: top;\n",
       "    }\n",
       "\n",
       "    .dataframe thead th {\n",
       "        text-align: right;\n",
       "    }\n",
       "</style>\n",
       "<table border=\"1\" class=\"dataframe\">\n",
       "  <thead>\n",
       "    <tr style=\"text-align: right;\">\n",
       "      <th></th>\n",
       "      <th>orig_zoneID</th>\n",
       "      <th>dest_zoneID</th>\n",
       "      <th>Purpose</th>\n",
       "      <th>Mode</th>\n",
       "      <th>TimePeriod</th>\n",
       "      <th>Trips</th>\n",
       "    </tr>\n",
       "  </thead>\n",
       "  <tbody>\n",
       "    <tr>\n",
       "      <th>0</th>\n",
       "      <td>E02000001</td>\n",
       "      <td>E02000001</td>\n",
       "      <td>HB</td>\n",
       "      <td>Bus</td>\n",
       "      <td>AM</td>\n",
       "      <td>93.610267</td>\n",
       "    </tr>\n",
       "    <tr>\n",
       "      <th>1</th>\n",
       "      <td>E02000001</td>\n",
       "      <td>E02000001</td>\n",
       "      <td>HB</td>\n",
       "      <td>Bus</td>\n",
       "      <td>IP</td>\n",
       "      <td>189.761532</td>\n",
       "    </tr>\n",
       "  </tbody>\n",
       "</table>\n",
       "</div>"
      ],
      "text/plain": [
       "  orig_zoneID dest_zoneID Purpose Mode TimePeriod       Trips\n",
       "0   E02000001   E02000001      HB  Bus         AM   93.610267\n",
       "1   E02000001   E02000001      HB  Bus         IP  189.761532"
      ]
     },
     "execution_count": 10,
     "metadata": {},
     "output_type": "execute_result"
    }
   ],
   "source": [
    "odg.head(2)"
   ]
  },
  {
   "cell_type": "markdown",
   "metadata": {},
   "source": [
    "for c in odg:\n",
    "    if odg[c].dtype.name == 'category':\n",
    "        odg[c] = odg[c].cat.codes"
   ]
  },
  {
   "cell_type": "code",
   "execution_count": 11,
   "metadata": {},
   "outputs": [],
   "source": [
    "odg.set_index(['orig_zoneID', 'dest_zoneID', 'Purpose', 'Mode', 'TimePeriod'], inplace=True)"
   ]
  },
  {
   "cell_type": "code",
   "execution_count": 12,
   "metadata": {},
   "outputs": [],
   "source": [
    "od_car = odg.xs('CarDriver', level='Mode')"
   ]
  },
  {
   "cell_type": "code",
   "execution_count": 13,
   "metadata": {},
   "outputs": [],
   "source": [
    "od_car.reset_index(inplace=True)"
   ]
  },
  {
   "cell_type": "markdown",
   "metadata": {},
   "source": [
    "for c in od_car:\n",
    "    if od_car[c].dtype.name == 'category':\n",
    "        od_car[c] = od_car[c].cat.codes"
   ]
  },
  {
   "cell_type": "code",
   "execution_count": 31,
   "metadata": {},
   "outputs": [],
   "source": [
    "# Reduce\n",
    "od_car_red = od_car[od_car.Trips >= 20]"
   ]
  },
  {
   "cell_type": "code",
   "execution_count": 64,
   "metadata": {},
   "outputs": [],
   "source": [
    "G = nx.from_pandas_dataframe(od_car_red, 'orig_zoneID', 'dest_zoneID',\n",
    "                             ['Purpose', 'TimePeriod'], nx.MultiDiGraph())"
   ]
  },
  {
   "cell_type": "code",
   "execution_count": 33,
   "metadata": {},
   "outputs": [
    {
     "data": {
      "text/plain": [
       "912"
      ]
     },
     "execution_count": 33,
     "metadata": {},
     "output_type": "execute_result"
    }
   ],
   "source": [
    "G.number_of_nodes()"
   ]
  },
  {
   "cell_type": "code",
   "execution_count": 34,
   "metadata": {},
   "outputs": [
    {
     "data": {
      "text/plain": [
       "39208"
      ]
     },
     "execution_count": 34,
     "metadata": {},
     "output_type": "execute_result"
    }
   ],
   "source": [
    "G.number_of_edges()"
   ]
  },
  {
   "cell_type": "code",
   "execution_count": 35,
   "metadata": {},
   "outputs": [
    {
     "name": "stdout",
     "output_type": "stream",
     "text": [
      "CPU times: user 1min 38s, sys: 136 ms, total: 1min 38s\n",
      "Wall time: 1min 39s\n"
     ]
    },
    {
     "data": {
      "text/plain": [
       "875998"
      ]
     },
     "execution_count": 35,
     "metadata": {},
     "output_type": "execute_result"
    }
   ],
   "source": [
    "%time sum(1 for x in nx.trip_chains(G, 5))"
   ]
  },
  {
   "cell_type": "code",
   "execution_count": 36,
   "metadata": {},
   "outputs": [],
   "source": [
    "ptc = nx.trip_chains(G, 5)"
   ]
  },
  {
   "cell_type": "code",
   "execution_count": 59,
   "metadata": {},
   "outputs": [],
   "source": [
    "a = next(ptc)"
   ]
  },
  {
   "cell_type": "code",
   "execution_count": 75,
   "metadata": {},
   "outputs": [
    {
     "data": {
      "text/plain": [
       "'E02000041'"
      ]
     },
     "execution_count": 75,
     "metadata": {},
     "output_type": "execute_result"
    }
   ],
   "source": [
    "a[2]"
   ]
  },
  {
   "cell_type": "code",
   "execution_count": 65,
   "metadata": {},
   "outputs": [
    {
     "data": {
      "text/plain": [
       "{0: {'Purpose': 'HB', 'TimePeriod': 'IP'}}"
      ]
     },
     "execution_count": 65,
     "metadata": {},
     "output_type": "execute_result"
    }
   ],
   "source": [
    "G.get_edge_data(a[0], a[1])"
   ]
  },
  {
   "cell_type": "code",
   "execution_count": 66,
   "metadata": {},
   "outputs": [
    {
     "data": {
      "text/plain": [
       "{0: {'Purpose': 'HB', 'TimePeriod': 'AM'},\n",
       " 1: {'Purpose': 'HB', 'TimePeriod': 'IP'},\n",
       " 2: {'Purpose': 'HB', 'TimePeriod': 'OP'},\n",
       " 3: {'Purpose': 'HB', 'TimePeriod': 'PM'},\n",
       " 4: {'Purpose': 'NHB', 'TimePeriod': 'IP'}}"
      ]
     },
     "execution_count": 66,
     "metadata": {},
     "output_type": "execute_result"
    }
   ],
   "source": [
    "G.get_edge_data(a[1], a[2])"
   ]
  },
  {
   "cell_type": "code",
   "execution_count": 76,
   "metadata": {},
   "outputs": [
    {
     "data": {
      "text/plain": [
       "{0: {'Purpose': 'HB', 'TimePeriod': 'AM'},\n",
       " 1: {'Purpose': 'HB', 'TimePeriod': 'IP'},\n",
       " 2: {'Purpose': 'HB', 'TimePeriod': 'OP'},\n",
       " 3: {'Purpose': 'HB', 'TimePeriod': 'PM'},\n",
       " 4: {'Purpose': 'NHB', 'TimePeriod': 'IP'}}"
      ]
     },
     "execution_count": 76,
     "metadata": {},
     "output_type": "execute_result"
    }
   ],
   "source": [
    "G.get_edge_data('E02000434', 'E02000041' )"
   ]
  },
  {
   "cell_type": "code",
   "execution_count": 77,
   "metadata": {},
   "outputs": [
    {
     "data": {
      "text/html": [
       "<div>\n",
       "<style scoped>\n",
       "    .dataframe tbody tr th:only-of-type {\n",
       "        vertical-align: middle;\n",
       "    }\n",
       "\n",
       "    .dataframe tbody tr th {\n",
       "        vertical-align: top;\n",
       "    }\n",
       "\n",
       "    .dataframe thead th {\n",
       "        text-align: right;\n",
       "    }\n",
       "</style>\n",
       "<table border=\"1\" class=\"dataframe\">\n",
       "  <thead>\n",
       "    <tr style=\"text-align: right;\">\n",
       "      <th></th>\n",
       "      <th></th>\n",
       "      <th>Purpose</th>\n",
       "      <th>TimePeriod</th>\n",
       "      <th>Trips</th>\n",
       "    </tr>\n",
       "    <tr>\n",
       "      <th>orig_zoneID</th>\n",
       "      <th>dest_zoneID</th>\n",
       "      <th></th>\n",
       "      <th></th>\n",
       "      <th></th>\n",
       "    </tr>\n",
       "  </thead>\n",
       "  <tbody>\n",
       "    <tr>\n",
       "      <th rowspan=\"5\" valign=\"top\">E02000434</th>\n",
       "      <th>E02000041</th>\n",
       "      <td>HB</td>\n",
       "      <td>AM</td>\n",
       "      <td>42.315216</td>\n",
       "    </tr>\n",
       "    <tr>\n",
       "      <th>E02000041</th>\n",
       "      <td>HB</td>\n",
       "      <td>IP</td>\n",
       "      <td>85.145861</td>\n",
       "    </tr>\n",
       "    <tr>\n",
       "      <th>E02000041</th>\n",
       "      <td>HB</td>\n",
       "      <td>OP</td>\n",
       "      <td>37.984611</td>\n",
       "    </tr>\n",
       "    <tr>\n",
       "      <th>E02000041</th>\n",
       "      <td>HB</td>\n",
       "      <td>PM</td>\n",
       "      <td>42.284094</td>\n",
       "    </tr>\n",
       "    <tr>\n",
       "      <th>E02000041</th>\n",
       "      <td>NHB</td>\n",
       "      <td>IP</td>\n",
       "      <td>20.777397</td>\n",
       "    </tr>\n",
       "  </tbody>\n",
       "</table>\n",
       "</div>"
      ],
      "text/plain": [
       "                        Purpose TimePeriod      Trips\n",
       "orig_zoneID dest_zoneID                              \n",
       "E02000434   E02000041        HB         AM  42.315216\n",
       "            E02000041        HB         IP  85.145861\n",
       "            E02000041        HB         OP  37.984611\n",
       "            E02000041        HB         PM  42.284094\n",
       "            E02000041       NHB         IP  20.777397"
      ]
     },
     "execution_count": 77,
     "metadata": {},
     "output_type": "execute_result"
    }
   ],
   "source": [
    "od_car_red.set_index(['orig_zoneID', 'dest_zoneID']).loc[a[1], a[2]]"
   ]
  },
  {
   "cell_type": "code",
   "execution_count": null,
   "metadata": {},
   "outputs": [],
   "source": []
  }
 ],
 "metadata": {
  "kernelspec": {
   "display_name": "Python 3",
   "language": "python",
   "name": "python3"
  },
  "language_info": {
   "codemirror_mode": {
    "name": "ipython",
    "version": 3
   },
   "file_extension": ".py",
   "mimetype": "text/x-python",
   "name": "python",
   "nbconvert_exporter": "python",
   "pygments_lexer": "ipython3",
   "version": "3.6.3"
  }
 },
 "nbformat": 4,
 "nbformat_minor": 2
}
