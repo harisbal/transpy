{
 "cells": [
  {
   "cell_type": "code",
   "execution_count": 1,
   "metadata": {},
   "outputs": [],
   "source": [
    "%matplotlib inline"
   ]
  },
  {
   "cell_type": "code",
   "execution_count": 2,
   "metadata": {},
   "outputs": [],
   "source": [
    "%load_ext autoreload\n",
    "%autoreload 2"
   ]
  },
  {
   "cell_type": "code",
   "execution_count": 3,
   "metadata": {},
   "outputs": [],
   "source": [
    "import pandas as pd\n",
    "import networkx as nx\n",
    "\n",
    "import itertools"
   ]
  },
  {
   "cell_type": "code",
   "execution_count": 4,
   "metadata": {},
   "outputs": [],
   "source": [
    "def pairwise(iterable):\n",
    "    \"s -> (s0,s1), (s1,s2), (s2, s3), ...\"\n",
    "    a, b = itertools.tee(iterable)\n",
    "    next(b, None)\n",
    "    return zip(a, b)"
   ]
  },
  {
   "cell_type": "code",
   "execution_count": 8,
   "metadata": {},
   "outputs": [],
   "source": [
    "infilepath = r'/mnt/sda1/Users/Work/SharedSpace_linux/ODs_purpose_mode_timeperiod.csv'"
   ]
  },
  {
   "cell_type": "code",
   "execution_count": 9,
   "metadata": {},
   "outputs": [],
   "source": [
    "odtemp = pd.read_csv(infilepath, nrows=10)"
   ]
  },
  {
   "cell_type": "code",
   "execution_count": 10,
   "metadata": {},
   "outputs": [],
   "source": [
    "dtypes_keys = list(odtemp.columns)\n",
    "dtypes_vals = ['category', 'category', 'category',\n",
    "               'category', 'category', 'float']\n",
    "\n",
    "dtypes = dict(zip(dtypes_keys, dtypes_vals))\n",
    "\n",
    "od = pd.read_csv(infilepath, index_col=list(range(0, 5)))\n",
    "#od.sort_index(inplace=True)"
   ]
  },
  {
   "cell_type": "code",
   "execution_count": 11,
   "metadata": {},
   "outputs": [
    {
     "data": {
      "text/html": [
       "<div>\n",
       "<style scoped>\n",
       "    .dataframe tbody tr th:only-of-type {\n",
       "        vertical-align: middle;\n",
       "    }\n",
       "\n",
       "    .dataframe tbody tr th {\n",
       "        vertical-align: top;\n",
       "    }\n",
       "\n",
       "    .dataframe thead th {\n",
       "        text-align: right;\n",
       "    }\n",
       "</style>\n",
       "<table border=\"1\" class=\"dataframe\">\n",
       "  <thead>\n",
       "    <tr style=\"text-align: right;\">\n",
       "      <th></th>\n",
       "      <th></th>\n",
       "      <th></th>\n",
       "      <th></th>\n",
       "      <th></th>\n",
       "      <th>Trips</th>\n",
       "    </tr>\n",
       "    <tr>\n",
       "      <th>orig_zoneID</th>\n",
       "      <th>dest_zoneID</th>\n",
       "      <th>Purpose</th>\n",
       "      <th>Mode</th>\n",
       "      <th>TimePeriod</th>\n",
       "      <th></th>\n",
       "    </tr>\n",
       "  </thead>\n",
       "  <tbody>\n",
       "    <tr>\n",
       "      <th rowspan=\"2\" valign=\"top\">E02000001</th>\n",
       "      <th>E02000001</th>\n",
       "      <th>HBO</th>\n",
       "      <th>Bus</th>\n",
       "      <th>AM</th>\n",
       "      <td>20.572919</td>\n",
       "    </tr>\n",
       "    <tr>\n",
       "      <th>E02000576</th>\n",
       "      <th>HBO</th>\n",
       "      <th>Bus</th>\n",
       "      <th>AM</th>\n",
       "      <td>3.849908</td>\n",
       "    </tr>\n",
       "  </tbody>\n",
       "</table>\n",
       "</div>"
      ],
      "text/plain": [
       "                                                     Trips\n",
       "orig_zoneID dest_zoneID Purpose Mode TimePeriod           \n",
       "E02000001   E02000001   HBO     Bus  AM          20.572919\n",
       "            E02000576   HBO     Bus  AM           3.849908"
      ]
     },
     "execution_count": 11,
     "metadata": {},
     "output_type": "execute_result"
    }
   ],
   "source": [
    "od.head(2)"
   ]
  },
  {
   "cell_type": "code",
   "execution_count": 12,
   "metadata": {
    "scrolled": true
   },
   "outputs": [],
   "source": [
    "d_grp_purp = {'HBW': 'HB', 'HBO': 'HB', 'NHB': 'NHB'}\n",
    "grp_keys = [None, None, d_grp_purp, None, None]\n",
    "\n",
    "odg = od.groupby(grp_keys, level=od.index.names).sum()"
   ]
  },
  {
   "cell_type": "code",
   "execution_count": 13,
   "metadata": {},
   "outputs": [],
   "source": [
    "odg.reset_index(inplace=True)\n",
    "odg.Purpose = odg.Purpose.astype('category')"
   ]
  },
  {
   "cell_type": "code",
   "execution_count": 14,
   "metadata": {},
   "outputs": [
    {
     "data": {
      "text/html": [
       "<div>\n",
       "<style scoped>\n",
       "    .dataframe tbody tr th:only-of-type {\n",
       "        vertical-align: middle;\n",
       "    }\n",
       "\n",
       "    .dataframe tbody tr th {\n",
       "        vertical-align: top;\n",
       "    }\n",
       "\n",
       "    .dataframe thead th {\n",
       "        text-align: right;\n",
       "    }\n",
       "</style>\n",
       "<table border=\"1\" class=\"dataframe\">\n",
       "  <thead>\n",
       "    <tr style=\"text-align: right;\">\n",
       "      <th></th>\n",
       "      <th>orig_zoneID</th>\n",
       "      <th>dest_zoneID</th>\n",
       "      <th>Purpose</th>\n",
       "      <th>Mode</th>\n",
       "      <th>TimePeriod</th>\n",
       "      <th>Trips</th>\n",
       "    </tr>\n",
       "  </thead>\n",
       "  <tbody>\n",
       "    <tr>\n",
       "      <th>0</th>\n",
       "      <td>E02000001</td>\n",
       "      <td>E02000001</td>\n",
       "      <td>HB</td>\n",
       "      <td>Bus</td>\n",
       "      <td>AM</td>\n",
       "      <td>93.610267</td>\n",
       "    </tr>\n",
       "    <tr>\n",
       "      <th>1</th>\n",
       "      <td>E02000001</td>\n",
       "      <td>E02000001</td>\n",
       "      <td>HB</td>\n",
       "      <td>Bus</td>\n",
       "      <td>IP</td>\n",
       "      <td>189.761532</td>\n",
       "    </tr>\n",
       "  </tbody>\n",
       "</table>\n",
       "</div>"
      ],
      "text/plain": [
       "  orig_zoneID dest_zoneID Purpose Mode TimePeriod       Trips\n",
       "0   E02000001   E02000001      HB  Bus         AM   93.610267\n",
       "1   E02000001   E02000001      HB  Bus         IP  189.761532"
      ]
     },
     "execution_count": 14,
     "metadata": {},
     "output_type": "execute_result"
    }
   ],
   "source": [
    "odg.head(2)"
   ]
  },
  {
   "cell_type": "markdown",
   "metadata": {},
   "source": [
    "for c in odg:\n",
    "    if odg[c].dtype.name == 'category':\n",
    "        odg[c] = odg[c].cat.codes"
   ]
  },
  {
   "cell_type": "code",
   "execution_count": 15,
   "metadata": {},
   "outputs": [],
   "source": [
    "odg.set_index(['orig_zoneID', 'dest_zoneID', 'Purpose', 'Mode', 'TimePeriod'], inplace=True)"
   ]
  },
  {
   "cell_type": "code",
   "execution_count": 16,
   "metadata": {},
   "outputs": [],
   "source": [
    "od_car = odg.xs('CarDriver', level='Mode')"
   ]
  },
  {
   "cell_type": "code",
   "execution_count": 17,
   "metadata": {},
   "outputs": [],
   "source": [
    "od_car.reset_index(inplace=True)"
   ]
  },
  {
   "cell_type": "markdown",
   "metadata": {},
   "source": [
    "for c in od_car:\n",
    "    if od_car[c].dtype.name == 'category':\n",
    "        od_car[c] = od_car[c].cat.codes"
   ]
  },
  {
   "cell_type": "code",
   "execution_count": 77,
   "metadata": {},
   "outputs": [],
   "source": [
    "# Reduce\n",
    "od_car_reduced = od_car[od_car.Trips >= 50]\n",
    "# Remove intrazonals\n",
    "od_car_reduced = od_car_reduced[od_car_reduced.orig_zoneID != od_car_reduced.dest_zoneID]"
   ]
  },
  {
   "cell_type": "code",
   "execution_count": 78,
   "metadata": {},
   "outputs": [],
   "source": [
    "G = nx.from_pandas_dataframe(od_car_reduced, 'orig_zoneID', 'dest_zoneID',\n",
    "                             ['Purpose', 'TimePeriod'], nx.MultiDiGraph())"
   ]
  },
  {
   "cell_type": "code",
   "execution_count": 79,
   "metadata": {},
   "outputs": [
    {
     "data": {
      "text/plain": [
       "558"
      ]
     },
     "execution_count": 79,
     "metadata": {},
     "output_type": "execute_result"
    }
   ],
   "source": [
    "G.number_of_nodes()"
   ]
  },
  {
   "cell_type": "code",
   "execution_count": 80,
   "metadata": {},
   "outputs": [
    {
     "data": {
      "text/plain": [
       "6168"
      ]
     },
     "execution_count": 80,
     "metadata": {},
     "output_type": "execute_result"
    }
   ],
   "source": [
    "G.number_of_edges()"
   ]
  },
  {
   "cell_type": "code",
   "execution_count": 103,
   "metadata": {},
   "outputs": [],
   "source": [
    "potential_tripchains = nx.trip_chains(G, 5)"
   ]
  },
  {
   "cell_type": "code",
   "execution_count": 84,
   "metadata": {},
   "outputs": [],
   "source": [
    "def viable_tripchains(G, tripchains):\n",
    "    \n",
    "    def filter_edges_purpose(start_node, end_node, purpose):\n",
    "        edges_data = G.get_edge_data(start_node, end_node)\n",
    "        filt_edges = [v for k, v in edges_data.items() if v['Purpose'] == purpose]\n",
    "        \n",
    "        if filt_edges:\n",
    "            return filt_edges\n",
    "        else:\n",
    "            return None\n",
    "        \n",
    "    \n",
    "    def filter_interm_edges(interm_edges):\n",
    "        filt_interm_edges = []\n",
    "        for u, v in pairwise(interm_edges):\n",
    "            filt_edges = filter_edges_purpose(u, v, 'NHB')\n",
    "\n",
    "            if filt_edges:\n",
    "                filt_interm_edges.append(filt_edges)\n",
    "            else:\n",
    "                return None\n",
    "        \n",
    "        return filt_interm_edges\n",
    "\n",
    "    # Filter edges \n",
    "    # Filter intrazonals\n",
    "    \n",
    "    viable_tripchains = []\n",
    "    \n",
    "    for tc in tripchains:\n",
    "        # We filter the edges of the tripchain according to purpose\n",
    "        edges = []\n",
    "        if len(tc) > 1:\n",
    "            \n",
    "            first_edges = filter_edges_purpose(tc[0], tc[1], 'HB')\n",
    "            last_edges = filter_edges_purpose(tc[-2], tc[-1], 'HB')\n",
    "            \n",
    "            # Check if first and last leg fulfil the criteria\n",
    "            # If they don't function has returned NaN\n",
    "            if first_edges and last_edges:\n",
    "                edges.append(first_edges)\n",
    "                edges.append(last_edges)\n",
    "            else:\n",
    "                continue\n",
    "        \n",
    "            if len(tc) > 2:\n",
    "                # The rest can only be NHB trips\n",
    "                interm_edges = tc[1:-1]\n",
    "                \n",
    "                filt_interm_edges = filter_interm_edges(interm_edges)    \n",
    "                \n",
    "                if filt_interm_edges:\n",
    "                    edges.insert(1, interm_edges)\n",
    "                else:\n",
    "                    continue\n",
    "            \n",
    "            viable_tripchains.append(edges)"
   ]
  },
  {
   "cell_type": "code",
   "execution_count": 95,
   "metadata": {},
   "outputs": [
    {
     "data": {
      "text/plain": [
       "dict_values([{'Purpose': 'HB', 'TimePeriod': 'AM'}, {'Purpose': 'HB', 'TimePeriod': 'IP'}, {'Purpose': 'HB', 'TimePeriod': 'OP'}, {'Purpose': 'HB', 'TimePeriod': 'PM'}, {'Purpose': 'NHB', 'TimePeriod': 'IP'}])"
      ]
     },
     "execution_count": 95,
     "metadata": {},
     "output_type": "execute_result"
    }
   ],
   "source": [
    "first_leg_edges_data"
   ]
  },
  {
   "cell_type": "code",
   "execution_count": 74,
   "metadata": {},
   "outputs": [],
   "source": [
    "potential_tripchains = nx.trip_chains(G, 5)"
   ]
  },
  {
   "cell_type": "markdown",
   "metadata": {
    "collapsed": true
   },
   "source": [
    "%time sum(1 for _ in potential_cycles)"
   ]
  },
  {
   "cell_type": "code",
   "execution_count": 91,
   "metadata": {},
   "outputs": [
    {
     "data": {
      "text/plain": [
       "['E02000231', 'E02000221', 'E02000217']"
      ]
     },
     "execution_count": 91,
     "metadata": {},
     "output_type": "execute_result"
    }
   ],
   "source": [
    "tc = next(potential_tripchains)\n",
    "tc"
   ]
  },
  {
   "cell_type": "code",
   "execution_count": 92,
   "metadata": {},
   "outputs": [
    {
     "data": {
      "text/plain": [
       "{0: {'Purpose': 'HB', 'TimePeriod': 'IP'}}"
      ]
     },
     "execution_count": 92,
     "metadata": {},
     "output_type": "execute_result"
    }
   ],
   "source": [
    "G.get_edge_data(tc[0], tc[1])"
   ]
  },
  {
   "cell_type": "code",
   "execution_count": 93,
   "metadata": {},
   "outputs": [
    {
     "data": {
      "text/plain": [
       "{0: {'Purpose': 'HB', 'TimePeriod': 'AM'},\n",
       " 1: {'Purpose': 'HB', 'TimePeriod': 'IP'},\n",
       " 2: {'Purpose': 'HB', 'TimePeriod': 'OP'},\n",
       " 3: {'Purpose': 'HB', 'TimePeriod': 'PM'},\n",
       " 4: {'Purpose': 'NHB', 'TimePeriod': 'IP'}}"
      ]
     },
     "execution_count": 93,
     "metadata": {},
     "output_type": "execute_result"
    }
   ],
   "source": [
    "G.get_edge_data(tc[1], tc[2])"
   ]
  },
  {
   "cell_type": "code",
   "execution_count": 68,
   "metadata": {},
   "outputs": [
    {
     "ename": "IndexError",
     "evalue": "list index out of range",
     "output_type": "error",
     "traceback": [
      "\u001b[0;31m---------------------------------------------------------------------------\u001b[0m",
      "\u001b[0;31mIndexError\u001b[0m                                Traceback (most recent call last)",
      "\u001b[0;32m<ipython-input-68-04d1184625d4>\u001b[0m in \u001b[0;36m<module>\u001b[0;34m()\u001b[0m\n\u001b[0;32m----> 1\u001b[0;31m \u001b[0mG\u001b[0m\u001b[0;34m.\u001b[0m\u001b[0mget_edge_data\u001b[0m\u001b[0;34m(\u001b[0m\u001b[0mpc\u001b[0m\u001b[0;34m[\u001b[0m\u001b[0;36m2\u001b[0m\u001b[0;34m]\u001b[0m\u001b[0;34m,\u001b[0m \u001b[0mpc\u001b[0m\u001b[0;34m[\u001b[0m\u001b[0;36m3\u001b[0m\u001b[0;34m]\u001b[0m\u001b[0;34m)\u001b[0m\u001b[0;34m\u001b[0m\u001b[0m\n\u001b[0m",
      "\u001b[0;31mIndexError\u001b[0m: list index out of range"
     ]
    }
   ],
   "source": [
    "G.get_edge_data(pc[2], pc[3])"
   ]
  },
  {
   "cell_type": "code",
   "execution_count": 95,
   "metadata": {},
   "outputs": [],
   "source": [
    "df = od_car_red.copy()"
   ]
  },
  {
   "cell_type": "code",
   "execution_count": 100,
   "metadata": {},
   "outputs": [],
   "source": [
    "dft = df.set_index(list(df.columns[:-1])).xs('NHB', level='Purpose')"
   ]
  }
 ],
 "metadata": {
  "kernelspec": {
   "display_name": "Python 3",
   "language": "python",
   "name": "python3"
  },
  "language_info": {
   "codemirror_mode": {
    "name": "ipython",
    "version": 3
   },
   "file_extension": ".py",
   "mimetype": "text/x-python",
   "name": "python",
   "nbconvert_exporter": "python",
   "pygments_lexer": "ipython3",
   "version": "3.6.3"
  }
 },
 "nbformat": 4,
 "nbformat_minor": 2
}
