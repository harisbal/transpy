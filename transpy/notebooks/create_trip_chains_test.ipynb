{
 "cells": [
  {
   "cell_type": "code",
   "execution_count": 1,
   "metadata": {},
   "outputs": [],
   "source": [
    "%matplotlib inline"
   ]
  },
  {
   "cell_type": "code",
   "execution_count": 2,
   "metadata": {},
   "outputs": [],
   "source": [
    "import networkx as nx"
   ]
  },
  {
   "cell_type": "code",
   "execution_count": 3,
   "metadata": {},
   "outputs": [],
   "source": [
    "from itertools import tee"
   ]
  },
  {
   "cell_type": "code",
   "execution_count": 4,
   "metadata": {},
   "outputs": [],
   "source": [
    "def pairwise(iterable):\n",
    "    \"s -> (s0,s1), (s1,s2), (s2, s3), ...\"\n",
    "    a, b = tee(iterable)\n",
    "    next(b, None)\n",
    "    return list(zip(a, b))"
   ]
  },
  {
   "cell_type": "markdown",
   "metadata": {
    "collapsed": true
   },
   "source": [
    "G.add_edge(1,3, key=1, purpose='HB')\n",
    "G.add_edge(1,4, key=3, purpose='HB')\n",
    "G.add_edge(1,4, key=3, purpose='NHB')\n",
    "G.add_edge(3,4, key=1, purpose='HB')\n",
    "G.add_edge(5,2, key=2, purpose='NHB')\n",
    "G.add_edge(3,6, key=3, purpose='NHB')\n",
    "G.add_edge(4,2, key=2, purpose='NHB')\n",
    "G.add_edge(2,1, key=2, purpose='NHB')\n",
    "G.add_edge(2,4, key=1, purpose='NHB')\n",
    "G.add_edge(1,7, key=1, purpose='NHB')\n",
    "G.add_edge(7,3, key=1, purpose='NHB')"
   ]
  },
  {
   "cell_type": "code",
   "execution_count": 71,
   "metadata": {},
   "outputs": [
    {
     "data": {
      "text/plain": [
       "\"\\nG.add_edge(1,8, purpose='HB', time='IP')\\nG.add_edge(8,9, purpose='NHB', time='AM')\\nG.add_edge(9,10, purpose='NHB', time='AM')\\nG.add_edge(10,11, purpose='NHB', time='AM')\\nG.add_edge(11,1, purpose='NHB', time='AM')\\n\""
      ]
     },
     "execution_count": 71,
     "metadata": {},
     "output_type": "execute_result"
    }
   ],
   "source": [
    "G = nx.MultiDiGraph()\n",
    "G.add_edge(1,2, purpose='HB', time='AM')\n",
    "G.add_edge(2,3, purpose='HB', time='AM')\n",
    "G.add_edge(3,4, purpose='HB', time='PM')\n",
    "G.add_edge(4,1, purpose='NHB', time='PM')\n",
    "G.add_edge(1,5, purpose='NHB', time='AM')\n",
    "G.add_edge(5,6, purpose='NHB', time='IP')\n",
    "G.add_edge(6,7, purpose='NHB', time='PM')\n",
    "G.add_edge(7,1, purpose='HB', time='IP')\n",
    "\"\"\"\n",
    "G.add_edge(1,8, purpose='HB', time='IP')\n",
    "G.add_edge(8,9, purpose='NHB', time='AM')\n",
    "G.add_edge(9,10, purpose='NHB', time='AM')\n",
    "G.add_edge(10,11, purpose='NHB', time='AM')\n",
    "G.add_edge(11,1, purpose='NHB', time='AM')\n",
    "\"\"\" "
   ]
  },
  {
   "cell_type": "markdown",
   "metadata": {},
   "source": [
    "G = nx.MultiDiGraph()\n",
    "G.add_edge(1,3, purpose='HB', time='AM')\n",
    "G.add_edge(1,4, purpose='HB', time='AM')\n",
    "G.add_edge(1,4, purpose='HB', time='PM')\n",
    "G.add_edge(1,4, purpose='NHB', time='PM')\n",
    "G.add_edge(3,4, purpose='NHB', time='AM')\n",
    "G.add_edge(5,2, purpose='NHB', time='IP')\n",
    "G.add_edge(3,6, purpose='NHB', time='PM')\n",
    "G.add_edge(4,2, purpose='NHB', time='IP')\n",
    "G.add_edge(2,1, purpose='HB', time='IP')\n",
    "G.add_edge(2,4, purpose='NHB', time='AM')\n",
    "G.add_edge(1,7, purpose='NHB', time='AM')\n",
    "G.add_edge(7,3, purpose='NHB', time='AM')"
   ]
  },
  {
   "cell_type": "code",
   "execution_count": 44,
   "metadata": {},
   "outputs": [],
   "source": [
    "#nx.draw(G)"
   ]
  },
  {
   "cell_type": "code",
   "execution_count": 45,
   "metadata": {},
   "outputs": [],
   "source": [
    "potential_chains = list(nx.simple_cycles(G, 5))"
   ]
  },
  {
   "cell_type": "code",
   "execution_count": 55,
   "metadata": {},
   "outputs": [
    {
     "data": {
      "text/plain": [
       "OutMultiEdgeDataView([(1, 2, {'purpose': 'HB', 'time': 'AM'}), (1, 5, {'purpose': 'NHB', 'time': 'AM'}), (5, 6, {'purpose': 'NHB', 'time': 'IP'}), (4, 1, {'purpose': 'NHB', 'time': 'PM'}), (6, 7, {'purpose': 'NHB', 'time': 'PM'}), (7, 1, {'purpose': 'NHB', 'time': 'IP'})])"
      ]
     },
     "execution_count": 55,
     "metadata": {},
     "output_type": "execute_result"
    }
   ],
   "source": [
    "G_nhb = nx.MultiDiGraph(((source, target, attr) for source, target, attr in G.edges(data=True) if attr['purpose'] == 'NHB' or source == 1))\n",
    "G_nhb.edges(data=True)"
   ]
  },
  {
   "cell_type": "code",
   "execution_count": 53,
   "metadata": {},
   "outputs": [
    {
     "data": {
      "text/plain": [
       "AdjacencyView({2: {0: {'purpose': 'HB', 'time': 'AM'}}, 5: {0: {'purpose': 'NHB', 'time': 'AM'}}})"
      ]
     },
     "execution_count": 53,
     "metadata": {},
     "output_type": "execute_result"
    }
   ],
   "source": [
    "G_1st_leg = G[1]\n",
    "G_1st_leg"
   ]
  },
  {
   "cell_type": "code",
   "execution_count": 72,
   "metadata": {},
   "outputs": [],
   "source": [
    "lst = []\n",
    "for source, target, attr in G.edges(data=True):\n",
    "    if attr['purpose'] == 'NHB':\n",
    "        if not (source == 1 or target == 1):\n",
    "            lst.append((source, target, attr))\n",
    "    elif attr['purpose'] == 'HB':\n",
    "        if (source == 1 or target == 1):\n",
    "            lst.append((source, target, attr))\n",
    "    "
   ]
  },
  {
   "cell_type": "code",
   "execution_count": 73,
   "metadata": {},
   "outputs": [
    {
     "data": {
      "text/plain": [
       "[(1, 2, {'purpose': 'HB', 'time': 'AM'}),\n",
       " (1, 5, {'purpose': 'NHB', 'time': 'AM'}),\n",
       " (4, 1, {'purpose': 'NHB', 'time': 'PM'}),\n",
       " (5, 6, {'purpose': 'NHB', 'time': 'IP'}),\n",
       " (6, 7, {'purpose': 'NHB', 'time': 'PM'}),\n",
       " (7, 1, {'purpose': 'HB', 'time': 'IP'})]"
      ]
     },
     "execution_count": 73,
     "metadata": {},
     "output_type": "execute_result"
    }
   ],
   "source": [
    "lst"
   ]
  },
  {
   "cell_type": "code",
   "execution_count": 65,
   "metadata": {},
   "outputs": [],
   "source": [
    "subb = nx.MultiDiGraph(lst)"
   ]
  },
  {
   "cell_type": "code",
   "execution_count": 66,
   "metadata": {},
   "outputs": [
    {
     "data": {
      "text/plain": [
       "AdjacencyView({2: {0: {'purpose': 'HB', 'time': 'AM'}}, 5: {0: {'purpose': 'NHB', 'time': 'AM'}}})"
      ]
     },
     "execution_count": 66,
     "metadata": {},
     "output_type": "execute_result"
    }
   ],
   "source": [
    "subb[1]"
   ]
  },
  {
   "cell_type": "code",
   "execution_count": null,
   "metadata": {},
   "outputs": [],
   "source": []
  },
  {
   "cell_type": "code",
   "execution_count": null,
   "metadata": {},
   "outputs": [],
   "source": []
  }
 ],
 "metadata": {
  "kernelspec": {
   "display_name": "Python 3",
   "language": "python",
   "name": "python3"
  },
  "language_info": {
   "codemirror_mode": {
    "name": "ipython",
    "version": 3
   },
   "file_extension": ".py",
   "mimetype": "text/x-python",
   "name": "python",
   "nbconvert_exporter": "python",
   "pygments_lexer": "ipython3",
   "version": "3.6.3"
  }
 },
 "nbformat": 4,
 "nbformat_minor": 2
}
