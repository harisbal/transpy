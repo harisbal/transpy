{
 "cells": [
  {
   "cell_type": "code",
   "execution_count": 1,
   "metadata": {
    "collapsed": true
   },
   "outputs": [],
   "source": [
    "%matplotlib inline"
   ]
  },
  {
   "cell_type": "code",
   "execution_count": 2,
   "metadata": {
    "collapsed": true
   },
   "outputs": [],
   "source": [
    "import networkx as nx"
   ]
  },
  {
   "cell_type": "code",
   "execution_count": 3,
   "metadata": {
    "collapsed": true
   },
   "outputs": [],
   "source": [
    "from itertools import tee"
   ]
  },
  {
   "cell_type": "code",
   "execution_count": 4,
   "metadata": {
    "collapsed": true
   },
   "outputs": [],
   "source": [
    "def pairwise(iterable):\n",
    "    \"s -> (s0,s1), (s1,s2), (s2, s3), ...\"\n",
    "    a, b = tee(iterable)\n",
    "    next(b, None)\n",
    "    return list(zip(a, b))"
   ]
  },
  {
   "cell_type": "markdown",
   "metadata": {
    "collapsed": true
   },
   "source": [
    "G.add_edge(1,3, key=1, purpose='HB')\n",
    "G.add_edge(1,4, key=3, purpose='HB')\n",
    "G.add_edge(1,4, key=3, purpose='NHB')\n",
    "G.add_edge(3,4, key=1, purpose='HB')\n",
    "G.add_edge(5,2, key=2, purpose='NHB')\n",
    "G.add_edge(3,6, key=3, purpose='NHB')\n",
    "G.add_edge(4,2, key=2, purpose='NHB')\n",
    "G.add_edge(2,1, key=2, purpose='NHB')\n",
    "G.add_edge(2,4, key=1, purpose='NHB')\n",
    "G.add_edge(1,7, key=1, purpose='NHB')\n",
    "G.add_edge(7,3, key=1, purpose='NHB')"
   ]
  },
  {
   "cell_type": "code",
   "execution_count": 5,
   "metadata": {
    "collapsed": false
   },
   "outputs": [
    {
     "data": {
      "text/plain": [
       "0"
      ]
     },
     "execution_count": 5,
     "metadata": {},
     "output_type": "execute_result"
    }
   ],
   "source": [
    "G = nx.MultiDiGraph()\n",
    "G.add_edge(1,3, purpose='HB', time='AM')\n",
    "G.add_edge(1,4, purpose='HB', time='AM')\n",
    "G.add_edge(1,4, purpose='HB', time='PM')\n",
    "G.add_edge(1,4, purpose='NHB', time='PM')\n",
    "G.add_edge(3,4, purpose='NHB', time='AM')\n",
    "G.add_edge(5,2, purpose='NHB', time='IP')\n",
    "G.add_edge(3,6, purpose='NHB', time='PM')\n",
    "G.add_edge(4,2, purpose='NHB', time='IP')\n",
    "G.add_edge(2,1, purpose='HB', time='IP')\n",
    "G.add_edge(2,4, purpose='NHB', time='AM')\n",
    "G.add_edge(1,7, purpose='NHB', time='AM')\n",
    "G.add_edge(7,3, purpose='NHB', time='AM')"
   ]
  },
  {
   "cell_type": "code",
   "execution_count": 6,
   "metadata": {
    "collapsed": true
   },
   "outputs": [],
   "source": [
    "#nx.draw(G)"
   ]
  },
  {
   "cell_type": "code",
   "execution_count": 7,
   "metadata": {
    "collapsed": false
   },
   "outputs": [
    {
     "name": "stdout",
     "output_type": "stream",
     "text": [
      "[1, 4, 2]\n",
      "[2, 4]\n"
     ]
    }
   ],
   "source": [
    "for chain in nx.simple_cycles(G):\n",
    "    if len(chain) > 3:\n",
    "        continue\n",
    "    else:\n",
    "        print(chain)"
   ]
  },
  {
   "cell_type": "code",
   "execution_count": 12,
   "metadata": {
    "collapsed": true
   },
   "outputs": [],
   "source": [
    "potential_chains = list(nx.simple_cycles(G))"
   ]
  },
  {
   "cell_type": "code",
   "execution_count": 10,
   "metadata": {
    "collapsed": true
   },
   "outputs": [],
   "source": [
    "legs_max = 3\n",
    "loops = []\n",
    "chain_nodes = []\n",
    "for pc in potential_chains:\n",
    "    if len(pc) == 2:\n",
    "        loops.append(pc)\n",
    "        continue\n",
    "    elif len(pc) <= legs_max:\n",
    "        chain_nodes.append(pc)\n",
    "    else:\n",
    "        continue\n"
   ]
  },
  {
   "cell_type": "markdown",
   "metadata": {},
   "source": [
    "for ch in chain_nodes:\n",
    "    edges = G.edges(ch, data=True, keys=True)\n",
    "    tp_max = 0\n",
    "    for edg in edges:\n",
    "        # time period is the key of the edge\n",
    "        tp = edg[2]\n",
    "        if tp_max == 0:\n",
    "            tp_max == tp\n",
    "            continue\n",
    "        elif tp < tp_max:\n",
    "            # This chain is not feasible because\n",
    "            # time periods not in order\n",
    "            print(1)\n",
    "            chains.remove(ch)\n",
    "            break\n",
    "        else:\n",
    "            continue\n",
    "            \n",
    "    "
   ]
  },
  {
   "cell_type": "code",
   "execution_count": 11,
   "metadata": {
    "collapsed": false
   },
   "outputs": [
    {
     "data": {
      "text/plain": [
       "[[1, 4, 2]]"
      ]
     },
     "execution_count": 11,
     "metadata": {},
     "output_type": "execute_result"
    }
   ],
   "source": [
    "chain_nodes"
   ]
  },
  {
   "cell_type": "code",
   "execution_count": 12,
   "metadata": {
    "collapsed": true
   },
   "outputs": [],
   "source": [
    "# Append the first node for every chain\n",
    "for i in range(0, len(chain_nodes)):\n",
    "    chain_nodes[i].append(chain_nodes[i][0])"
   ]
  },
  {
   "cell_type": "code",
   "execution_count": 13,
   "metadata": {
    "collapsed": true
   },
   "outputs": [],
   "source": [
    "# TODO Test if iterating over a subgraph is faster\n",
    "Gsub = G.subgraph(chain_nodes[0])"
   ]
  },
  {
   "cell_type": "code",
   "execution_count": 14,
   "metadata": {
    "collapsed": false
   },
   "outputs": [
    {
     "name": "stdout",
     "output_type": "stream",
     "text": [
      "{0: {'purpose': 'HB', 'time': 'AM'}, 1: {'purpose': 'HB', 'time': 'PM'}, 2: {'purpose': 'NHB', 'time': 'PM'}}\n",
      "{0: {'purpose': 'NHB', 'time': 'IP'}}\n",
      "{0: {'purpose': 'HB', 'time': 'IP'}}\n"
     ]
    }
   ],
   "source": [
    "edges = []\n",
    "for cn in chain_nodes:\n",
    "    cn_pairs = pairwise(cn)\n",
    "    for u, v in cn_pairs:\n",
    "        edg = G.get_edge_data(u, v)\n",
    "        print(edg)\n",
    "        edges.append(edg)\n",
    "    \n",
    "    # first and last edges(legs) can only be HB\n",
    "    keys_to_delete = []\n",
    "    for k, e in edges[0].items():\n",
    "        if e['purpose'] != 'HB':\n",
    "            keys_to_delete.append(k)\n",
    "    for k in keys_to_delete:\n",
    "        del edges[0][k]\n",
    "    \n",
    "    keys_to_delete = []\n",
    "    for k, e in edges[-1].items():\n",
    "        if e['purpose'] != 'HB':\n",
    "            keys_to_delete.append(k)\n",
    "    for k in keys_to_delete:\n",
    "        del edges[-1][k]"
   ]
  },
  {
   "cell_type": "code",
   "execution_count": 17,
   "metadata": {
    "collapsed": false
   },
   "outputs": [
    {
     "data": {
      "text/plain": [
       "[{0: {'purpose': 'HB', 'time': 'AM'}, 1: {'purpose': 'HB', 'time': 'PM'}},\n",
       " {0: {'purpose': 'NHB', 'time': 'IP'}},\n",
       " {0: {'purpose': 'HB', 'time': 'IP'}}]"
      ]
     },
     "execution_count": 17,
     "metadata": {},
     "output_type": "execute_result"
    }
   ],
   "source": [
    "edges"
   ]
  },
  {
   "cell_type": "code",
   "execution_count": null,
   "metadata": {
    "collapsed": true
   },
   "outputs": [],
   "source": []
  }
 ],
 "metadata": {
  "kernelspec": {
   "display_name": "Python 3",
   "language": "python",
   "name": "python3"
  },
  "language_info": {
   "codemirror_mode": {
    "name": "ipython",
    "version": 3
   },
   "file_extension": ".py",
   "mimetype": "text/x-python",
   "name": "python",
   "nbconvert_exporter": "python",
   "pygments_lexer": "ipython3",
   "version": "3.6.0"
  }
 },
 "nbformat": 4,
 "nbformat_minor": 2
}
