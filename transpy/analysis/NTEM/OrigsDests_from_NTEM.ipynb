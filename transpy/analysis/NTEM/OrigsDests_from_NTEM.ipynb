{
 "cells": [
  {
   "cell_type": "code",
   "execution_count": 138,
   "metadata": {
    "collapsed": true
   },
   "outputs": [],
   "source": [
    "import os\n",
    "import pandas as pd"
   ]
  },
  {
   "cell_type": "code",
   "execution_count": 139,
   "metadata": {
    "collapsed": true
   },
   "outputs": [],
   "source": [
    "pd.options.display.float_format = '{:,.2f}'.format"
   ]
  },
  {
   "cell_type": "markdown",
   "metadata": {},
   "source": [
    "# Imports"
   ]
  },
  {
   "cell_type": "code",
   "execution_count": 140,
   "metadata": {
    "collapsed": true
   },
   "outputs": [],
   "source": [
    "userhome = os.path.expanduser('~')\n",
    "\n",
    "# When I work from home\n",
    "userhome = userhome.replace('C:', 'D:')"
   ]
  },
  {
   "cell_type": "code",
   "execution_count": 141,
   "metadata": {
    "collapsed": true
   },
   "outputs": [],
   "source": [
    "infolder = os.path.join(userhome, r'OneDrive - Transport Systems Catapult\\Modelling\\Data\\NTEM\\csv')"
   ]
  },
  {
   "cell_type": "code",
   "execution_count": 142,
   "metadata": {
    "collapsed": true
   },
   "outputs": [],
   "source": [
    "# Create a dict with the Lookups\n",
    "lookups = {}\n",
    "\n",
    "for fn in os.listdir(infolder):\n",
    "    if 'tblLookUp' in fn:\n",
    "        base = os.path.splitext(fn)[0]\n",
    "        lookup_name = base.split('tblLookUp')[1]\n",
    "        \n",
    "        input_fp = os.path.join(infolder, fn) \n",
    "        df = pd.read_csv(input_fp, index_col=0)\n",
    "        if 'ShortDesc' in df.columns:\n",
    "            df = df['ShortDesc']\n",
    "        lookups[lookup_name] = df.squeeze().to_dict()\n",
    "        "
   ]
  },
  {
   "cell_type": "code",
   "execution_count": 143,
   "metadata": {},
   "outputs": [
    {
     "data": {
      "text/plain": [
       "dict_keys(['Geo72', 'Mode', 'Purpose', 'TimePeriod', 'TripType'])"
      ]
     },
     "execution_count": 143,
     "metadata": {},
     "output_type": "execute_result"
    }
   ],
   "source": [
    "lookups.keys()"
   ]
  },
  {
   "cell_type": "code",
   "execution_count": 144,
   "metadata": {
    "collapsed": true
   },
   "outputs": [],
   "source": [
    "infilepath = os.path.join(infolder, 'TripEndsByDirection_London.csv')"
   ]
  },
  {
   "cell_type": "code",
   "execution_count": 145,
   "metadata": {},
   "outputs": [
    {
     "name": "stderr",
     "output_type": "stream",
     "text": [
      "C:\\Users\\haris.ballis\\.conda\\envs\\py3\\lib\\site-packages\\numpy\\lib\\arraysetops.py:395: FutureWarning: elementwise comparison failed; returning scalar instead, but in the future will perform elementwise comparison\n",
      "  mask |= (ar1 == a)\n"
     ]
    }
   ],
   "source": [
    "df = pd.read_csv(infilepath, index_col=list(range(5)))"
   ]
  },
  {
   "cell_type": "markdown",
   "metadata": {},
   "source": [
    "### Lookup (MSOA to LAD)"
   ]
  },
  {
   "cell_type": "code",
   "execution_count": 146,
   "metadata": {
    "collapsed": true
   },
   "outputs": [],
   "source": [
    "infolder = os.path.join(userhome, r'OneDrive - Transport Systems Catapult\\Modelling\\Data\\GIS\\Boundaries\\Lookups\\OA')"
   ]
  },
  {
   "cell_type": "code",
   "execution_count": 147,
   "metadata": {
    "collapsed": true
   },
   "outputs": [],
   "source": [
    "infilepath = os.path.join(infolder, 'OA11_LSOA11_MSOA11_LAD11_EW_LUv2.csv')"
   ]
  },
  {
   "cell_type": "code",
   "execution_count": 148,
   "metadata": {
    "collapsed": true
   },
   "outputs": [],
   "source": [
    "lu = pd.read_csv(infilepath)\n",
    "lu = lu[lu.columns[3:]].drop_duplicates()\n",
    "lu.set_index('MSOA11CD', inplace=True)\n",
    "lookups['MSOA11CD'] = lu"
   ]
  },
  {
   "cell_type": "markdown",
   "metadata": {},
   "source": [
    "## Cleaning"
   ]
  },
  {
   "cell_type": "code",
   "execution_count": 149,
   "metadata": {
    "collapsed": true
   },
   "outputs": [],
   "source": [
    "df.columns = df.columns.astype('int')\n",
    "df.columns.name = 'Year'\n",
    "df = df.stack()\n",
    "df.name = 'TripEnds'"
   ]
  },
  {
   "cell_type": "markdown",
   "metadata": {},
   "source": [
    "## Danger! Zone 9999 gives the sum of each group, make sure it's filtered out"
   ]
  },
  {
   "cell_type": "code",
   "execution_count": 150,
   "metadata": {},
   "outputs": [
    {
     "data": {
      "text/plain": [
       "ZoneID  Purpose  Mode  TimePeriod  TripType  Year\n",
       "1310    1        1     1           1         2011   876.93\n",
       "                                             2016   949.43\n",
       "Name: TripEnds, dtype: float64"
      ]
     },
     "execution_count": 150,
     "metadata": {},
     "output_type": "execute_result"
    }
   ],
   "source": [
    "df.head(2)"
   ]
  },
  {
   "cell_type": "code",
   "execution_count": 151,
   "metadata": {},
   "outputs": [],
   "source": [
    "# Filter for the base year / We can interpolate of course\n",
    "df = df.xs(2026, level='Year')"
   ]
  },
  {
   "cell_type": "markdown",
   "metadata": {},
   "source": [
    "### Convert codes to names"
   ]
  },
  {
   "cell_type": "code",
   "execution_count": 152,
   "metadata": {
    "collapsed": true
   },
   "outputs": [],
   "source": [
    "grpby_bys = [None]\n",
    "grpby_lvls = ['ZoneID']\n",
    "\n",
    "for idxname in df.index.names:\n",
    "    if idxname in lookups:\n",
    "        grpby_bys.append(lookups[idxname])\n",
    "        grpby_lvls.append(idxname)"
   ]
  },
  {
   "cell_type": "code",
   "execution_count": 153,
   "metadata": {},
   "outputs": [
    {
     "data": {
      "text/plain": [
       "ZoneID  Purpose  Mode  TimePeriod  TripType\n",
       "1310    HBEB     Bus   AM          A           98.10\n",
       "                                   D          103.90\n",
       "Name: TripEnds, dtype: float64"
      ]
     },
     "execution_count": 153,
     "metadata": {},
     "output_type": "execute_result"
    }
   ],
   "source": [
    "df = df.groupby(by=grpby_bys, level=grpby_lvls).mean()\n",
    "df.head(2)"
   ]
  },
  {
   "cell_type": "code",
   "execution_count": 154,
   "metadata": {},
   "outputs": [
    {
     "data": {
      "text/html": [
       "<div>\n",
       "<style>\n",
       "    .dataframe thead tr:only-child th {\n",
       "        text-align: right;\n",
       "    }\n",
       "\n",
       "    .dataframe thead th {\n",
       "        text-align: left;\n",
       "    }\n",
       "\n",
       "    .dataframe tbody tr th {\n",
       "        vertical-align: top;\n",
       "    }\n",
       "</style>\n",
       "<table border=\"1\" class=\"dataframe\">\n",
       "  <thead>\n",
       "    <tr style=\"text-align: right;\">\n",
       "      <th></th>\n",
       "      <th></th>\n",
       "      <th></th>\n",
       "      <th></th>\n",
       "      <th></th>\n",
       "      <th>TripEnds</th>\n",
       "    </tr>\n",
       "    <tr>\n",
       "      <th>ZoneID</th>\n",
       "      <th>Purpose</th>\n",
       "      <th>Mode</th>\n",
       "      <th>TimePeriod</th>\n",
       "      <th>TripType</th>\n",
       "      <th></th>\n",
       "    </tr>\n",
       "  </thead>\n",
       "  <tbody>\n",
       "    <tr>\n",
       "      <th rowspan=\"2\" valign=\"top\">1310</th>\n",
       "      <th rowspan=\"2\" valign=\"top\">HBEB</th>\n",
       "      <th rowspan=\"2\" valign=\"top\">Bus</th>\n",
       "      <th rowspan=\"2\" valign=\"top\">AM</th>\n",
       "      <th>A</th>\n",
       "      <td>98.10</td>\n",
       "    </tr>\n",
       "    <tr>\n",
       "      <th>D</th>\n",
       "      <td>103.90</td>\n",
       "    </tr>\n",
       "  </tbody>\n",
       "</table>\n",
       "</div>"
      ],
      "text/plain": [
       "                                         TripEnds\n",
       "ZoneID Purpose Mode TimePeriod TripType          \n",
       "1310   HBEB    Bus  AM         A            98.10\n",
       "                               D           103.90"
      ]
     },
     "execution_count": 154,
     "metadata": {},
     "output_type": "execute_result"
    }
   ],
   "source": [
    "# Convert to categorical data\n",
    "df = df.reset_index()\n",
    "cat_cols = ['Purpose', 'Mode', 'TimePeriod', 'TripType']\n",
    "\n",
    "for c in df:\n",
    "    if c in cat_cols:\n",
    "        df[c] = df[c].astype('category')\n",
    "\n",
    "idx_cols = ['ZoneID'] + cat_cols \n",
    "df = df.set_index(idx_cols)\n",
    "\n",
    "tripEnds = df.copy()\n",
    "tripEnds.head(2)"
   ]
  },
  {
   "cell_type": "markdown",
   "metadata": {
    "scrolled": true
   },
   "source": [
    "filt_modes = ['Car', 'CarPass']\n",
    "filt_timeperiods = ['AM', 'IP', 'PM', 'OP']\n",
    "filt_triptypes = ['O', 'D']\n",
    "\n",
    "df = dfg.loc[idxslc[:, :, filt_modes, filt_timeperiods, filt_triptypes], :]\n",
    "df.head()"
   ]
  },
  {
   "cell_type": "markdown",
   "metadata": {},
   "source": [
    "## Aggregate purposes"
   ]
  },
  {
   "cell_type": "code",
   "execution_count": 155,
   "metadata": {},
   "outputs": [
    {
     "name": "stdout",
     "output_type": "stream",
     "text": [
      "{'HBEB': 'HBO', 'HBEdu': 'HBO', 'HBHol': 'HBO', 'HBPB': 'HBO', 'HBRec': 'HBO', 'HBShop': 'HBO', 'HBVis': 'HBO', 'HBW': 'HBW', 'NHBEB': 'NHB', 'NHBEdu': 'NHB', 'NHBHol': 'NHB', 'NHBPB': 'NHB', 'NHBRec': 'NHB', 'NHBShop': 'NHB', 'NHBW': 'NHB'}\n"
     ]
    },
    {
     "data": {
      "text/html": [
       "<div>\n",
       "<style>\n",
       "    .dataframe thead tr:only-child th {\n",
       "        text-align: right;\n",
       "    }\n",
       "\n",
       "    .dataframe thead th {\n",
       "        text-align: left;\n",
       "    }\n",
       "\n",
       "    .dataframe tbody tr th {\n",
       "        vertical-align: top;\n",
       "    }\n",
       "</style>\n",
       "<table border=\"1\" class=\"dataframe\">\n",
       "  <thead>\n",
       "    <tr style=\"text-align: right;\">\n",
       "      <th></th>\n",
       "      <th></th>\n",
       "      <th></th>\n",
       "      <th></th>\n",
       "      <th></th>\n",
       "      <th>TripEnds</th>\n",
       "    </tr>\n",
       "    <tr>\n",
       "      <th>ZoneID</th>\n",
       "      <th>Purpose</th>\n",
       "      <th>Mode</th>\n",
       "      <th>TimePeriod</th>\n",
       "      <th>TripType</th>\n",
       "      <th></th>\n",
       "    </tr>\n",
       "  </thead>\n",
       "  <tbody>\n",
       "    <tr>\n",
       "      <th rowspan=\"2\" valign=\"top\">1310</th>\n",
       "      <th rowspan=\"2\" valign=\"top\">HBO</th>\n",
       "      <th rowspan=\"2\" valign=\"top\">Bus</th>\n",
       "      <th rowspan=\"2\" valign=\"top\">AM</th>\n",
       "      <th>A</th>\n",
       "      <td>1,904.84</td>\n",
       "    </tr>\n",
       "    <tr>\n",
       "      <th>D</th>\n",
       "      <td>2,338.83</td>\n",
       "    </tr>\n",
       "  </tbody>\n",
       "</table>\n",
       "</div>"
      ],
      "text/plain": [
       "                                         TripEnds\n",
       "ZoneID Purpose Mode TimePeriod TripType          \n",
       "1310   HBO     Bus  AM         A         1,904.84\n",
       "                               D         2,338.83"
      ]
     },
     "execution_count": 155,
     "metadata": {},
     "output_type": "execute_result"
    }
   ],
   "source": [
    "# Aggregate purposes\n",
    "df = tripEnds.copy()\n",
    "purposes = list(df.index.levels[1].values)\n",
    "aggrs = ['HBO', 'HBO', 'HBO', 'HBO', 'HBO', 'HBO', 'HBO', 'HBW', 'NHB', 'NHB', 'NHB', 'NHB', 'NHB', 'NHB', 'NHB']\n",
    "d_aggrs = dict(list(zip(purposes, aggrs)))\n",
    "print(d_aggrs)\n",
    "\n",
    "df_aggr_purposes = df.groupby([None, d_aggrs, None, None, None], level=list(df.index.names)).sum()\n",
    "df_aggr_purposes.head(2)"
   ]
  },
  {
   "cell_type": "markdown",
   "metadata": {},
   "source": [
    "# Convert to Model Zone System"
   ]
  },
  {
   "cell_type": "code",
   "execution_count": 156,
   "metadata": {
    "scrolled": true
   },
   "outputs": [
    {
     "data": {
      "text/html": [
       "<div>\n",
       "<style>\n",
       "    .dataframe thead tr:only-child th {\n",
       "        text-align: right;\n",
       "    }\n",
       "\n",
       "    .dataframe thead th {\n",
       "        text-align: left;\n",
       "    }\n",
       "\n",
       "    .dataframe tbody tr th {\n",
       "        vertical-align: top;\n",
       "    }\n",
       "</style>\n",
       "<table border=\"1\" class=\"dataframe\">\n",
       "  <thead>\n",
       "    <tr style=\"text-align: right;\">\n",
       "      <th></th>\n",
       "      <th></th>\n",
       "      <th></th>\n",
       "      <th></th>\n",
       "      <th></th>\n",
       "      <th>TripEnds</th>\n",
       "    </tr>\n",
       "    <tr>\n",
       "      <th>MSOA11CD</th>\n",
       "      <th>Purpose</th>\n",
       "      <th>Mode</th>\n",
       "      <th>TimePeriod</th>\n",
       "      <th>TripType</th>\n",
       "      <th></th>\n",
       "    </tr>\n",
       "  </thead>\n",
       "  <tbody>\n",
       "    <tr>\n",
       "      <th rowspan=\"2\" valign=\"top\">E02000001</th>\n",
       "      <th rowspan=\"2\" valign=\"top\">HBO</th>\n",
       "      <th rowspan=\"2\" valign=\"top\">Bus</th>\n",
       "      <th rowspan=\"2\" valign=\"top\">AM</th>\n",
       "      <th>A</th>\n",
       "      <td>11,114.40</td>\n",
       "    </tr>\n",
       "    <tr>\n",
       "      <th>D</th>\n",
       "      <td>11,629.20</td>\n",
       "    </tr>\n",
       "  </tbody>\n",
       "</table>\n",
       "</div>"
      ],
      "text/plain": [
       "                                            TripEnds\n",
       "MSOA11CD  Purpose Mode TimePeriod TripType          \n",
       "E02000001 HBO     Bus  AM         A        11,114.40\n",
       "                                  D        11,629.20"
      ]
     },
     "execution_count": 156,
     "metadata": {},
     "output_type": "execute_result"
    }
   ],
   "source": [
    "# Convert ZoneID to MSOA11CD\n",
    "d_msoa = lookups['Geo72']['NTEM7ZoneCode']\n",
    "df = df_aggr_purposes.copy()\n",
    "df = df.groupby(by=[d_msoa, None, None, None, None], level=df.index.names).sum()\n",
    "df.index.rename('MSOA11CD', level=0, inplace=True)\n",
    "\n",
    "tripEnds_msoa = df.copy()\n",
    "tripEnds_msoa.head(2)"
   ]
  },
  {
   "cell_type": "code",
   "execution_count": 157,
   "metadata": {
    "collapsed": true,
    "scrolled": true
   },
   "outputs": [],
   "source": [
    "# Create the ModelZoneIDs. The zone system uses NTEM codes.\n",
    "# Internal Greenwich area is defined by MSOA codes and External by LAD codes\n",
    "\n",
    "lu = lookups['MSOA11CD']\n",
    "zoneIDs = lu.reset_index().apply(lambda x: x['MSOA11CD'] if x['LAD11NM']=='Greenwich' else x['LAD11CD'], axis=1)\n",
    "zoneIDs.name = 'ZoneID'\n",
    "\n",
    "# Create the dictionary that maps MSOA11CD to the new Model Zone System\n",
    "keys = lu.index.values\n",
    "values = zoneIDs.values\n",
    "d_modelZones = dict(zip(keys, values))"
   ]
  },
  {
   "cell_type": "code",
   "execution_count": 158,
   "metadata": {
    "collapsed": true
   },
   "outputs": [],
   "source": [
    "# Decided to use msoas as model zones\n",
    "tripEnds_modelZones = tripEnds_msoa.copy()"
   ]
  },
  {
   "cell_type": "markdown",
   "metadata": {
    "scrolled": true
   },
   "source": [
    "# Decided to use msoas for all London\n",
    "# Convert the Zoning System\n",
    "grp_bys = [d_modelZones, None, None, None, None]\n",
    "grp_lvls = list(tripEnds_msoa.index.names)\n",
    "\n",
    "tripEnds_modelZones = tripEnds_msoa.groupby(by=grp_bys, level=grp_lvls).sum()\n",
    "tripEnds_modelZones.index.rename('ModelZoneID', level=0, inplace=True)\n",
    "tripEnds_modelZones.head(2)"
   ]
  },
  {
   "cell_type": "markdown",
   "metadata": {},
   "source": [
    "## Analysis"
   ]
  },
  {
   "cell_type": "markdown",
   "metadata": {},
   "source": [
    "### Filtering"
   ]
  },
  {
   "cell_type": "code",
   "execution_count": 159,
   "metadata": {
    "collapsed": true
   },
   "outputs": [],
   "source": [
    "idxslc = pd.IndexSlice"
   ]
  },
  {
   "cell_type": "code",
   "execution_count": 160,
   "metadata": {
    "collapsed": true
   },
   "outputs": [],
   "source": [
    "df = tripEnds_modelZones.copy()"
   ]
  },
  {
   "cell_type": "code",
   "execution_count": 161,
   "metadata": {},
   "outputs": [
    {
     "data": {
      "text/html": [
       "<div>\n",
       "<style>\n",
       "    .dataframe thead tr:only-child th {\n",
       "        text-align: right;\n",
       "    }\n",
       "\n",
       "    .dataframe thead th {\n",
       "        text-align: left;\n",
       "    }\n",
       "\n",
       "    .dataframe tbody tr th {\n",
       "        vertical-align: top;\n",
       "    }\n",
       "</style>\n",
       "<table border=\"1\" class=\"dataframe\">\n",
       "  <thead>\n",
       "    <tr style=\"text-align: right;\">\n",
       "      <th></th>\n",
       "      <th></th>\n",
       "      <th></th>\n",
       "      <th></th>\n",
       "      <th></th>\n",
       "      <th>TripEnds</th>\n",
       "    </tr>\n",
       "    <tr>\n",
       "      <th>MSOA11CD</th>\n",
       "      <th>Purpose</th>\n",
       "      <th>Mode</th>\n",
       "      <th>TimePeriod</th>\n",
       "      <th>TripType</th>\n",
       "      <th></th>\n",
       "    </tr>\n",
       "  </thead>\n",
       "  <tbody>\n",
       "    <tr>\n",
       "      <th rowspan=\"2\" valign=\"top\">E02000001</th>\n",
       "      <th rowspan=\"2\" valign=\"top\">HBO</th>\n",
       "      <th rowspan=\"2\" valign=\"top\">Bus</th>\n",
       "      <th rowspan=\"2\" valign=\"top\">AM</th>\n",
       "      <th>A</th>\n",
       "      <td>11,114.40</td>\n",
       "    </tr>\n",
       "    <tr>\n",
       "      <th>D</th>\n",
       "      <td>11,629.20</td>\n",
       "    </tr>\n",
       "  </tbody>\n",
       "</table>\n",
       "</div>"
      ],
      "text/plain": [
       "                                            TripEnds\n",
       "MSOA11CD  Purpose Mode TimePeriod TripType          \n",
       "E02000001 HBO     Bus  AM         A        11,114.40\n",
       "                                  D        11,629.20"
      ]
     },
     "execution_count": 161,
     "metadata": {},
     "output_type": "execute_result"
    }
   ],
   "source": [
    "df.head(2)"
   ]
  },
  {
   "cell_type": "code",
   "execution_count": 162,
   "metadata": {
    "collapsed": true
   },
   "outputs": [],
   "source": [
    "# Keep Origins and Destinations\n",
    "df = df.loc[idxslc[:, :, :, 'AM IP PM OP'.split(), 'O D'.split()], :]"
   ]
  },
  {
   "cell_type": "code",
   "execution_count": 163,
   "metadata": {},
   "outputs": [
    {
     "data": {
      "text/plain": [
       "{'Bus': 'Bus',\n",
       " 'CarDriver': 'CarDriver',\n",
       " 'CarPass': 'CarPass',\n",
       " 'Cycle': 'Other',\n",
       " 'Rail': 'Rail',\n",
       " 'Walk': 'Walk'}"
      ]
     },
     "execution_count": 163,
     "metadata": {},
     "output_type": "execute_result"
    }
   ],
   "source": [
    "grp_mode_keys = list(df.index.get_level_values(2).unique())\n",
    "grp_mode_vals = 'Bus CarDriver CarPass Other Rail Walk'.split()\n",
    "\n",
    "dict_grp_mode = dict(zip(grp_mode_keys, grp_mode_vals))\n",
    "dict_grp_mode"
   ]
  },
  {
   "cell_type": "code",
   "execution_count": 164,
   "metadata": {
    "collapsed": true,
    "scrolled": true
   },
   "outputs": [],
   "source": [
    "# Seems like a bug, cannot use dictionary when groupby level is Categorical\n",
    "# df.groupby([None, None, dict_grp_mode, None, None], level=[0, 1, 2, 3, 4]).sum()\n",
    "\n",
    "# Aggregate modes for consistency with NTS\n",
    "df = df.reset_index()\n",
    "df.Mode = df.Mode.map(dict_grp_mode)\n",
    "df.set_index(list(df.columns[:-1]), inplace=True)\n",
    "origsdests_purpose_mode_time = df.groupby(level=df.index.names).sum()"
   ]
  },
  {
   "cell_type": "code",
   "execution_count": 165,
   "metadata": {
    "collapsed": true
   },
   "outputs": [],
   "source": [
    "# Convert to daily data\n",
    "origsdests_purpose_mode_time = origsdests_purpose_mode_time.div(5)"
   ]
  },
  {
   "cell_type": "markdown",
   "metadata": {},
   "source": [
    "## Export"
   ]
  },
  {
   "cell_type": "code",
   "execution_count": 166,
   "metadata": {
    "collapsed": true
   },
   "outputs": [],
   "source": [
    "outfolder = r'../GravityModel/inputs'"
   ]
  },
  {
   "cell_type": "code",
   "execution_count": 167,
   "metadata": {
    "collapsed": true
   },
   "outputs": [],
   "source": [
    "outfilepath = os.path.join(outfolder, 'tripends_msoas_2026_purpose_mode_time.csv')\n",
    "origsdests_purpose_mode_time.to_csv(outfilepath)"
   ]
  },
  {
   "cell_type": "markdown",
   "metadata": {},
   "source": [
    "# Playground"
   ]
  },
  {
   "cell_type": "code",
   "execution_count": 168,
   "metadata": {
    "scrolled": true
   },
   "outputs": [],
   "source": [
    "df = origsdests_purpose_mode_time.squeeze()"
   ]
  },
  {
   "cell_type": "code",
   "execution_count": 169,
   "metadata": {
    "scrolled": true
   },
   "outputs": [
    {
     "data": {
      "text/plain": [
       "TimePeriod  Purpose  TripType\n",
       "AM          HBO      D            549,604.32\n",
       "                     O            567,895.59\n",
       "            HBW      D            413,669.69\n",
       "                     O            401,406.61\n",
       "            NHB      D             66,394.89\n",
       "                     O             61,773.19\n",
       "IP          HBO      D          1,117,113.00\n",
       "                     O          1,107,391.00\n",
       "            HBW      D            161,958.70\n",
       "                     O            161,223.14\n",
       "            NHB      D            276,386.32\n",
       "                     O            274,086.40\n",
       "OP          HBO      D            403,575.12\n",
       "                     O            407,978.63\n",
       "            HBW      D            142,220.72\n",
       "                     O            144,385.09\n",
       "            NHB      D             40,426.04\n",
       "                     O             43,811.83\n",
       "PM          HBO      D            517,524.29\n",
       "                     O            506,349.25\n",
       "            HBW      D            303,063.97\n",
       "                     O            309,706.84\n",
       "            NHB      D             91,146.94\n",
       "                     O             94,198.63\n",
       "Name: TripEnds, dtype: float64"
      ]
     },
     "execution_count": 169,
     "metadata": {},
     "output_type": "execute_result"
    }
   ],
   "source": [
    "df.groupby(level=['TimePeriod', 'Purpose', 'TripType']).sum().div(5)"
   ]
  },
  {
   "cell_type": "code",
   "execution_count": 218,
   "metadata": {
    "collapsed": true
   },
   "outputs": [],
   "source": [
    "df = origsdests_purpose_mode_time.copy()"
   ]
  },
  {
   "cell_type": "code",
   "execution_count": 175,
   "metadata": {
    "scrolled": true
   },
   "outputs": [
    {
     "data": {
      "text/plain": [
       "MSOA11CD   Purpose  Mode       TimePeriod  TripType\n",
       "E02000001  HBO      Bus        AM          D          2,325.84\n",
       "                                           O            910.49\n",
       "                               IP          D          4,570.67\n",
       "                                           O          4,545.73\n",
       "                               OP          D            923.13\n",
       "                                           O          2,097.48\n",
       "                               PM          D          1,120.59\n",
       "                                           O          3,014.10\n",
       "                    CarDriver  AM          D          2,723.34\n",
       "                                           O            860.84\n",
       "                               IP          D          5,144.07\n",
       "                                           O          4,917.50\n",
       "                               OP          D          2,216.70\n",
       "                                           O          3,699.85\n",
       "                               PM          D          2,120.56\n",
       "                                           O          3,970.56\n",
       "                    CarPass    AM          D          1,083.98\n",
       "                                           O            684.40\n",
       "                               IP          D          3,899.24\n",
       "                                           O          2,801.76\n",
       "                               OP          D          1,195.77\n",
       "                                           O          1,897.12\n",
       "                               PM          D          1,484.25\n",
       "                                           O          2,330.47\n",
       "                    Other      AM          D            729.70\n",
       "                                           O            188.06\n",
       "                               IP          D          1,034.14\n",
       "                                           O          1,216.12\n",
       "                               OP          D            395.03\n",
       "                                           O          1,096.66\n",
       "                                                        ...   \n",
       "E02006931  NHB      CarPass    IP          D            189.54\n",
       "                                           O            232.59\n",
       "                               OP          D             33.70\n",
       "                                           O             40.00\n",
       "                               PM          D             73.72\n",
       "                                           O             98.08\n",
       "                    Other      AM          D              9.32\n",
       "                                           O              6.01\n",
       "                               IP          D             30.01\n",
       "                                           O             18.19\n",
       "                               OP          D              4.41\n",
       "                                           O              2.64\n",
       "                               PM          D             12.72\n",
       "                                           O              8.34\n",
       "                    Rail       AM          D             56.72\n",
       "                                           O             15.19\n",
       "                               IP          D            318.03\n",
       "                                           O             66.23\n",
       "                               OP          D             67.26\n",
       "                                           O             27.88\n",
       "                               PM          D            152.93\n",
       "                                           O             54.54\n",
       "                    Walk       AM          D            131.80\n",
       "                                           O            114.74\n",
       "                               IP          D            951.18\n",
       "                                           O            733.88\n",
       "                               OP          D             89.80\n",
       "                                           O             66.52\n",
       "                               PM          D            183.15\n",
       "                                           O            148.73\n",
       "Name: TripEnds, Length: 141552, dtype: float64"
      ]
     },
     "execution_count": 175,
     "metadata": {},
     "output_type": "execute_result"
    }
   ],
   "source": [
    "df"
   ]
  },
  {
   "cell_type": "code",
   "execution_count": 173,
   "metadata": {
    "scrolled": true
   },
   "outputs": [],
   "source": [
    "df_hb = df.loc[idxslc[:,['HBW','HBO'],:]]"
   ]
  },
  {
   "cell_type": "code",
   "execution_count": 179,
   "metadata": {},
   "outputs": [
    {
     "data": {
      "text/plain": [
       "TimePeriod  TripType\n",
       "AM          D          4,816,370.07\n",
       "            O          4,846,510.99\n",
       "IP          D          6,395,358.48\n",
       "            O          6,343,070.70\n",
       "OP          D          2,728,979.22\n",
       "            O          2,761,818.56\n",
       "PM          D          4,102,941.28\n",
       "            O          4,080,280.43\n",
       "Name: TripEnds, dtype: float64"
      ]
     },
     "execution_count": 179,
     "metadata": {},
     "output_type": "execute_result"
    }
   ],
   "source": [
    "df_hb.groupby(level=['TimePeriod', 'TripType']).sum()"
   ]
  },
  {
   "cell_type": "code",
   "execution_count": null,
   "metadata": {
    "collapsed": true
   },
   "outputs": [],
   "source": []
  }
 ],
 "metadata": {
  "kernelspec": {
   "display_name": "Python [default]",
   "language": "python",
   "name": "python3"
  },
  "language_info": {
   "codemirror_mode": {
    "name": "ipython",
    "version": 3
   },
   "file_extension": ".py",
   "mimetype": "text/x-python",
   "name": "python",
   "nbconvert_exporter": "python",
   "pygments_lexer": "ipython3",
   "version": "3.6.1"
  }
 },
 "nbformat": 4,
 "nbformat_minor": 2
}
