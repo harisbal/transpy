{
 "cells": [
  {
   "cell_type": "code",
   "execution_count": 1,
   "metadata": {
    "collapsed": true
   },
   "outputs": [],
   "source": [
    "%matplotlib inline"
   ]
  },
  {
   "cell_type": "code",
   "execution_count": 2,
   "metadata": {
    "collapsed": true
   },
   "outputs": [],
   "source": [
    "import sys, os\n",
    "sys.path.append(os.path.join(os.path.dirname(os.curdir), '..', 'lib'))"
   ]
  },
  {
   "cell_type": "code",
   "execution_count": 3,
   "metadata": {
    "collapsed": true
   },
   "outputs": [],
   "source": [
    "import os\n",
    "import numpy as np\n",
    "import pandas as pd\n",
    "import dataset_importers as di"
   ]
  },
  {
   "cell_type": "markdown",
   "metadata": {},
   "source": [
    "# Import files"
   ]
  },
  {
   "cell_type": "code",
   "execution_count": 15,
   "metadata": {
    "collapsed": true
   },
   "outputs": [],
   "source": [
    "userhome = os.path.expanduser('~')\n",
    "userhome = userhome.replace('C:', 'D:')"
   ]
  },
  {
   "cell_type": "code",
   "execution_count": 17,
   "metadata": {
    "collapsed": true
   },
   "outputs": [],
   "source": [
    "# Tables to retrieve\n",
    "nts_tables = ['Trip', 'Individual']"
   ]
  },
  {
   "cell_type": "code",
   "execution_count": 18,
   "metadata": {
    "collapsed": true
   },
   "outputs": [],
   "source": [
    "infolder = os.path.join(userhome, r'OneDrive - Transport Systems Catapult\\Modelling\\Data\\NTS\\UKDA-5340-tab')\n",
    "infile = r'5340_nts_lookup_tables_banded_variables_2015_ukds.xls'\n",
    "infilepath_metadata = os.path.join(infolder, r'mrdoc\\excel', infile)\n",
    "\n",
    "infolder_ntsdata = infolder"
   ]
  },
  {
   "cell_type": "markdown",
   "metadata": {},
   "source": [
    "### Import the NTS data"
   ]
  },
  {
   "cell_type": "code",
   "execution_count": 19,
   "metadata": {
    "collapsed": true
   },
   "outputs": [],
   "source": [
    "nts = di.get_nts(nts_tables, infolder_ntsdata, infilepath_metadata)"
   ]
  },
  {
   "cell_type": "markdown",
   "metadata": {},
   "source": [
    "## Analysis"
   ]
  },
  {
   "cell_type": "code",
   "execution_count": 20,
   "metadata": {
    "collapsed": true
   },
   "outputs": [],
   "source": [
    "#TODO improve performance (maybe dont use apply)\n",
    "def assign_tripPurpose(x):\n",
    "    tpo = x.TripPurpFrom_B01ID\n",
    "    tpd = x.TripPurpTo_B01ID\n",
    "    \n",
    "    if tpd=='Home':\n",
    "        tpo, tpd = tpd, tpo\n",
    "\n",
    "    if tpo=='Home':\n",
    "        purpose = 'HB{}'.format(tpd[0])\n",
    "    else:\n",
    "        purpose = 'NHB{}'.format(tpd[0])\n",
    "    \n",
    "    return purpose\n",
    "    "
   ]
  },
  {
   "cell_type": "code",
   "execution_count": 85,
   "metadata": {
    "collapsed": true
   },
   "outputs": [],
   "source": [
    "trips = nts['Trip']"
   ]
  },
  {
   "cell_type": "code",
   "execution_count": 86,
   "metadata": {
    "collapsed": true
   },
   "outputs": [],
   "source": [
    "trips_cols = ['SurveyYear', 'IndividualID', 'MainMode_B04ID', 'TripPurpFrom_B01ID',\n",
    "              'TripPurpTo_B01ID', 'TripOrigGOR_B02ID', 'TripDestGOR_B02ID', 'W5', 'JJXSC']\n",
    "trips = trips[trips_cols]"
   ]
  },
  {
   "cell_type": "code",
   "execution_count": 87,
   "metadata": {},
   "outputs": [
    {
     "data": {
      "text/html": [
       "<div>\n",
       "<style>\n",
       "    .dataframe thead tr:only-child th {\n",
       "        text-align: right;\n",
       "    }\n",
       "\n",
       "    .dataframe thead th {\n",
       "        text-align: left;\n",
       "    }\n",
       "\n",
       "    .dataframe tbody tr th {\n",
       "        vertical-align: top;\n",
       "    }\n",
       "</style>\n",
       "<table border=\"1\" class=\"dataframe\">\n",
       "  <thead>\n",
       "    <tr style=\"text-align: right;\">\n",
       "      <th></th>\n",
       "      <th>SurveyYear</th>\n",
       "      <th>IndividualID</th>\n",
       "      <th>MainMode_B04ID</th>\n",
       "      <th>TripPurpFrom_B01ID</th>\n",
       "      <th>TripPurpTo_B01ID</th>\n",
       "      <th>TripOrigGOR_B02ID</th>\n",
       "      <th>TripDestGOR_B02ID</th>\n",
       "      <th>W5</th>\n",
       "      <th>JJXSC</th>\n",
       "    </tr>\n",
       "    <tr>\n",
       "      <th>TripID</th>\n",
       "      <th></th>\n",
       "      <th></th>\n",
       "      <th></th>\n",
       "      <th></th>\n",
       "      <th></th>\n",
       "      <th></th>\n",
       "      <th></th>\n",
       "      <th></th>\n",
       "      <th></th>\n",
       "    </tr>\n",
       "  </thead>\n",
       "  <tbody>\n",
       "    <tr>\n",
       "      <th>2002000001</th>\n",
       "      <td>2002</td>\n",
       "      <td>2002000001</td>\n",
       "      <td>Car / van passenger</td>\n",
       "      <td>Home</td>\n",
       "      <td>Visit friends</td>\n",
       "      <td>London</td>\n",
       "      <td>London</td>\n",
       "      <td>0.989618</td>\n",
       "      <td>1</td>\n",
       "    </tr>\n",
       "    <tr>\n",
       "      <th>2002000002</th>\n",
       "      <td>2002</td>\n",
       "      <td>2002000001</td>\n",
       "      <td>Car / van passenger</td>\n",
       "      <td>Visit friends</td>\n",
       "      <td>Personal business other</td>\n",
       "      <td>London</td>\n",
       "      <td>London</td>\n",
       "      <td>1.002945</td>\n",
       "      <td>1</td>\n",
       "    </tr>\n",
       "  </tbody>\n",
       "</table>\n",
       "</div>"
      ],
      "text/plain": [
       "            SurveyYear  IndividualID       MainMode_B04ID TripPurpFrom_B01ID  \\\n",
       "TripID                                                                         \n",
       "2002000001        2002    2002000001  Car / van passenger               Home   \n",
       "2002000002        2002    2002000001  Car / van passenger      Visit friends   \n",
       "\n",
       "                   TripPurpTo_B01ID TripOrigGOR_B02ID TripDestGOR_B02ID  \\\n",
       "TripID                                                                    \n",
       "2002000001            Visit friends            London            London   \n",
       "2002000002  Personal business other            London            London   \n",
       "\n",
       "                  W5  JJXSC  \n",
       "TripID                       \n",
       "2002000001  0.989618      1  \n",
       "2002000002  1.002945      1  "
      ]
     },
     "execution_count": 87,
     "metadata": {},
     "output_type": "execute_result"
    }
   ],
   "source": [
    "trips.head(2)"
   ]
  },
  {
   "cell_type": "code",
   "execution_count": 88,
   "metadata": {
    "collapsed": true
   },
   "outputs": [],
   "source": [
    "df = trips.copy()\n",
    "df['WeightTrip'] = df['W5'] * df['JJXSC']\n",
    "df.drop(['W5', 'JJXSC'], axis=1, inplace=True)\n",
    "#df.head(2)"
   ]
  },
  {
   "cell_type": "markdown",
   "metadata": {},
   "source": [
    "### Filter the London trips "
   ]
  },
  {
   "cell_type": "code",
   "execution_count": 89,
   "metadata": {
    "collapsed": true
   },
   "outputs": [],
   "source": [
    "idxslc = pd.IndexSlice"
   ]
  },
  {
   "cell_type": "code",
   "execution_count": 90,
   "metadata": {
    "collapsed": true
   },
   "outputs": [],
   "source": [
    "df = df[(df.TripOrigGOR_B02ID=='London') & (df.TripDestGOR_B02ID=='London')]\n",
    "df.drop(['TripOrigGOR_B02ID', 'TripDestGOR_B02ID'], axis=1, inplace=True)\n",
    "#df.head(2)"
   ]
  },
  {
   "cell_type": "code",
   "execution_count": 91,
   "metadata": {},
   "outputs": [
    {
     "data": {
      "text/plain": [
       "Index(['SurveyYear', 'IndividualID', 'MainMode_B04ID', 'TripPurpFrom_B01ID',\n",
       "       'TripPurpTo_B01ID', 'TripOrigGOR_B02ID', 'TripDestGOR_B02ID', 'W5',\n",
       "       'JJXSC'],\n",
       "      dtype='object')"
      ]
     },
     "execution_count": 91,
     "metadata": {},
     "output_type": "execute_result"
    }
   ],
   "source": [
    "trips.columns"
   ]
  },
  {
   "cell_type": "code",
   "execution_count": 92,
   "metadata": {
    "collapsed": true
   },
   "outputs": [],
   "source": [
    "# From and To trip purposes contain the same categories\n",
    "grp_purpose_keys = list(df.TripPurpTo_B01ID.unique())\n",
    "grp_purpose_vals = ['Other', 'Other', 'Home', 'Other', 'Other', 'Other', 'Other', 'Work', 'Other', 'Other', 'Other', 'Other', 'Work', 'Other', 'Work', 'Home', 'Other', 'Other', 'Other', 'Other', 'Other', 'Other', 'Work']\n",
    "\n",
    "dict_grp_purpose = dict(zip(grp_purpose_keys, grp_purpose_vals))\n",
    "#dict_grp_purpose"
   ]
  },
  {
   "cell_type": "code",
   "execution_count": 93,
   "metadata": {},
   "outputs": [
    {
     "data": {
      "text/plain": [
       "['Car / van passenger',\n",
       " 'Taxi / minicab',\n",
       " 'Car / van driver',\n",
       " 'Walk',\n",
       " 'Bus in London',\n",
       " 'Surface Rail',\n",
       " 'Other local bus',\n",
       " 'London Underground',\n",
       " 'Bicycle',\n",
       " 'Other private transport',\n",
       " 'Motorcycle ',\n",
       " 'Other public transport',\n",
       " 'Non-local bus']"
      ]
     },
     "execution_count": 93,
     "metadata": {},
     "output_type": "execute_result"
    }
   ],
   "source": [
    "list(df.MainMode_B04ID.unique())"
   ]
  },
  {
   "cell_type": "code",
   "execution_count": 94,
   "metadata": {
    "collapsed": true
   },
   "outputs": [],
   "source": [
    "# Dictionary for aggregating modes\n",
    "grp_mode_keys = list(df.MainMode_B04ID.unique())\n",
    "grp_mode_vals = ['CarPass', 'Taxi', 'CarDriver', 'Walk', 'Bus', 'Rail', 'Bus', 'Rail', 'Other', 'Other', 'Other', 'Other', 'Other'] \n",
    "dict_grp_mode = dict(zip(grp_mode_keys, grp_mode_vals))\n",
    "#dict_grp_mode"
   ]
  },
  {
   "cell_type": "code",
   "execution_count": 95,
   "metadata": {
    "scrolled": false
   },
   "outputs": [
    {
     "data": {
      "text/html": [
       "<div>\n",
       "<style>\n",
       "    .dataframe thead tr:only-child th {\n",
       "        text-align: right;\n",
       "    }\n",
       "\n",
       "    .dataframe thead th {\n",
       "        text-align: left;\n",
       "    }\n",
       "\n",
       "    .dataframe tbody tr th {\n",
       "        vertical-align: top;\n",
       "    }\n",
       "</style>\n",
       "<table border=\"1\" class=\"dataframe\">\n",
       "  <thead>\n",
       "    <tr style=\"text-align: right;\">\n",
       "      <th></th>\n",
       "      <th>SurveyYear</th>\n",
       "      <th>IndividualID</th>\n",
       "      <th>MainMode_B04ID</th>\n",
       "      <th>TripPurpFrom_B01ID</th>\n",
       "      <th>TripPurpTo_B01ID</th>\n",
       "      <th>WeightTrip</th>\n",
       "    </tr>\n",
       "    <tr>\n",
       "      <th>TripID</th>\n",
       "      <th></th>\n",
       "      <th></th>\n",
       "      <th></th>\n",
       "      <th></th>\n",
       "      <th></th>\n",
       "      <th></th>\n",
       "    </tr>\n",
       "  </thead>\n",
       "  <tbody>\n",
       "    <tr>\n",
       "      <th>2002000001</th>\n",
       "      <td>2002</td>\n",
       "      <td>2002000001</td>\n",
       "      <td>CarPass</td>\n",
       "      <td>Home</td>\n",
       "      <td>Other</td>\n",
       "      <td>0.989618</td>\n",
       "    </tr>\n",
       "    <tr>\n",
       "      <th>2002000002</th>\n",
       "      <td>2002</td>\n",
       "      <td>2002000001</td>\n",
       "      <td>CarPass</td>\n",
       "      <td>Other</td>\n",
       "      <td>Other</td>\n",
       "      <td>1.002945</td>\n",
       "    </tr>\n",
       "  </tbody>\n",
       "</table>\n",
       "</div>"
      ],
      "text/plain": [
       "            SurveyYear  IndividualID MainMode_B04ID TripPurpFrom_B01ID  \\\n",
       "TripID                                                                   \n",
       "2002000001        2002    2002000001        CarPass               Home   \n",
       "2002000002        2002    2002000001        CarPass              Other   \n",
       "\n",
       "           TripPurpTo_B01ID  WeightTrip  \n",
       "TripID                                   \n",
       "2002000001            Other    0.989618  \n",
       "2002000002            Other    1.002945  "
      ]
     },
     "execution_count": 95,
     "metadata": {},
     "output_type": "execute_result"
    }
   ],
   "source": [
    "df.MainMode_B04ID = df.MainMode_B04ID.map(dict_grp_mode)\n",
    "df.TripPurpFrom_B01ID = df.TripPurpFrom_B01ID.map(dict_grp_purpose)\n",
    "df.TripPurpTo_B01ID = df.TripPurpTo_B01ID.map(dict_grp_purpose)\n",
    "df.head(2)"
   ]
  },
  {
   "cell_type": "code",
   "execution_count": 96,
   "metadata": {
    "collapsed": true
   },
   "outputs": [],
   "source": [
    "df = df.reset_index(drop=True)\n",
    "purps = df.reset_index().apply(assign_tripPurpose, axis=1)\n",
    "df.insert(4, 'TripPurpose',  purps)"
   ]
  },
  {
   "cell_type": "code",
   "execution_count": 97,
   "metadata": {},
   "outputs": [
    {
     "data": {
      "text/html": [
       "<div>\n",
       "<style>\n",
       "    .dataframe thead tr:only-child th {\n",
       "        text-align: right;\n",
       "    }\n",
       "\n",
       "    .dataframe thead th {\n",
       "        text-align: left;\n",
       "    }\n",
       "\n",
       "    .dataframe tbody tr th {\n",
       "        vertical-align: top;\n",
       "    }\n",
       "</style>\n",
       "<table border=\"1\" class=\"dataframe\">\n",
       "  <thead>\n",
       "    <tr style=\"text-align: right;\">\n",
       "      <th></th>\n",
       "      <th>SurveyYear</th>\n",
       "      <th>IndividualID</th>\n",
       "      <th>MainMode_B04ID</th>\n",
       "      <th>TripPurpFrom_B01ID</th>\n",
       "      <th>TripPurpose</th>\n",
       "      <th>TripPurpTo_B01ID</th>\n",
       "      <th>WeightTrip</th>\n",
       "    </tr>\n",
       "  </thead>\n",
       "  <tbody>\n",
       "    <tr>\n",
       "      <th>0</th>\n",
       "      <td>2002</td>\n",
       "      <td>2002000001</td>\n",
       "      <td>CarPass</td>\n",
       "      <td>Home</td>\n",
       "      <td>HBO</td>\n",
       "      <td>Other</td>\n",
       "      <td>0.989618</td>\n",
       "    </tr>\n",
       "    <tr>\n",
       "      <th>1</th>\n",
       "      <td>2002</td>\n",
       "      <td>2002000001</td>\n",
       "      <td>CarPass</td>\n",
       "      <td>Other</td>\n",
       "      <td>NHBO</td>\n",
       "      <td>Other</td>\n",
       "      <td>1.002945</td>\n",
       "    </tr>\n",
       "  </tbody>\n",
       "</table>\n",
       "</div>"
      ],
      "text/plain": [
       "   SurveyYear  IndividualID MainMode_B04ID TripPurpFrom_B01ID TripPurpose  \\\n",
       "0        2002    2002000001        CarPass               Home         HBO   \n",
       "1        2002    2002000001        CarPass              Other        NHBO   \n",
       "\n",
       "  TripPurpTo_B01ID  WeightTrip  \n",
       "0            Other    0.989618  \n",
       "1            Other    1.002945  "
      ]
     },
     "execution_count": 97,
     "metadata": {},
     "output_type": "execute_result"
    }
   ],
   "source": [
    "df.head(2)"
   ]
  },
  {
   "cell_type": "code",
   "execution_count": 98,
   "metadata": {},
   "outputs": [
    {
     "data": {
      "text/plain": [
       "538517.7870326295"
      ]
     },
     "execution_count": 98,
     "metadata": {},
     "output_type": "execute_result"
    }
   ],
   "source": [
    "df.WeightTrip.sum()"
   ]
  },
  {
   "cell_type": "code",
   "execution_count": 99,
   "metadata": {},
   "outputs": [
    {
     "data": {
      "text/plain": [
       "{'HBH': 'HBO', 'HBO': 'HBO', 'HBW': 'HBW', 'NHBO': 'NHB', 'NHBW': 'NHB'}"
      ]
     },
     "execution_count": 99,
     "metadata": {},
     "output_type": "execute_result"
    }
   ],
   "source": [
    "# Further purpose aggregation\n",
    "purps = ['HBO', 'NHBO', 'NHBW', 'HBW', 'HBH']\n",
    "aggr_purps = ['HBO', 'NHB', 'NHB', 'HBW', 'HBO']\n",
    "dict_grp_purps2 = dict(zip(purps, aggr_purps))\n",
    "dict_grp_purps2"
   ]
  },
  {
   "cell_type": "code",
   "execution_count": 100,
   "metadata": {
    "collapsed": true
   },
   "outputs": [],
   "source": [
    "df.TripPurpose = df.TripPurpose.map(dict_grp_purps2)"
   ]
  },
  {
   "cell_type": "code",
   "execution_count": 101,
   "metadata": {},
   "outputs": [
    {
     "data": {
      "text/plain": [
       "538517.7870326295"
      ]
     },
     "execution_count": 101,
     "metadata": {},
     "output_type": "execute_result"
    }
   ],
   "source": [
    "df.WeightTrip.sum()"
   ]
  },
  {
   "cell_type": "code",
   "execution_count": 102,
   "metadata": {
    "collapsed": true
   },
   "outputs": [],
   "source": [
    "trips_purpose = df.copy()"
   ]
  },
  {
   "cell_type": "code",
   "execution_count": 124,
   "metadata": {
    "collapsed": true,
    "scrolled": true
   },
   "outputs": [],
   "source": [
    "df = trips_purpose.copy()\n",
    "df = df[df.SurveyYear >= 2012]\n",
    "cols = ['SurveyYear', 'MainMode_B04ID', 'TripPurpose', 'WeightTrip']\n",
    "df = df[cols]\n",
    "# Groupby Year, Mode, Purpose\n",
    "dfg = df.groupby(['SurveyYear', 'MainMode_B04ID', 'TripPurpose']).WeightTrip.sum()\n",
    "# Groupby Mode, Purpose\n",
    "dfg = dfg.groupby(['MainMode_B04ID', 'TripPurpose']).mean()\n",
    "df = dfg.loc[['CarPass', 'Taxi']]\n",
    "\n",
    "carpass_taxi_split_bypurpose = df.groupby(level='TripPurpose').apply(lambda x: x.div(x.sum()))"
   ]
  },
  {
   "cell_type": "code",
   "execution_count": 125,
   "metadata": {},
   "outputs": [
    {
     "data": {
      "text/html": [
       "<div>\n",
       "<style>\n",
       "    .dataframe thead tr:only-child th {\n",
       "        text-align: right;\n",
       "    }\n",
       "\n",
       "    .dataframe thead th {\n",
       "        text-align: left;\n",
       "    }\n",
       "\n",
       "    .dataframe tbody tr th {\n",
       "        vertical-align: top;\n",
       "    }\n",
       "</style>\n",
       "<table border=\"1\" class=\"dataframe\">\n",
       "  <thead>\n",
       "    <tr style=\"text-align: right;\">\n",
       "      <th></th>\n",
       "      <th>Mode</th>\n",
       "      <th>TripPurpose</th>\n",
       "      <th>Percentage</th>\n",
       "    </tr>\n",
       "  </thead>\n",
       "  <tbody>\n",
       "    <tr>\n",
       "      <th>0</th>\n",
       "      <td>CarPass</td>\n",
       "      <td>HBO</td>\n",
       "      <td>0.946891</td>\n",
       "    </tr>\n",
       "    <tr>\n",
       "      <th>1</th>\n",
       "      <td>CarPass</td>\n",
       "      <td>HBW</td>\n",
       "      <td>0.836570</td>\n",
       "    </tr>\n",
       "    <tr>\n",
       "      <th>2</th>\n",
       "      <td>CarPass</td>\n",
       "      <td>NHB</td>\n",
       "      <td>0.879673</td>\n",
       "    </tr>\n",
       "    <tr>\n",
       "      <th>3</th>\n",
       "      <td>Taxi</td>\n",
       "      <td>HBO</td>\n",
       "      <td>0.053109</td>\n",
       "    </tr>\n",
       "    <tr>\n",
       "      <th>4</th>\n",
       "      <td>Taxi</td>\n",
       "      <td>HBW</td>\n",
       "      <td>0.163430</td>\n",
       "    </tr>\n",
       "    <tr>\n",
       "      <th>5</th>\n",
       "      <td>Taxi</td>\n",
       "      <td>NHB</td>\n",
       "      <td>0.120327</td>\n",
       "    </tr>\n",
       "  </tbody>\n",
       "</table>\n",
       "</div>"
      ],
      "text/plain": [
       "      Mode TripPurpose  Percentage\n",
       "0  CarPass         HBO    0.946891\n",
       "1  CarPass         HBW    0.836570\n",
       "2  CarPass         NHB    0.879673\n",
       "3     Taxi         HBO    0.053109\n",
       "4     Taxi         HBW    0.163430\n",
       "5     Taxi         NHB    0.120327"
      ]
     },
     "execution_count": 125,
     "metadata": {},
     "output_type": "execute_result"
    }
   ],
   "source": [
    "carpass_taxi_split_bypurpose = carpass_taxi_split_bypurpose.reset_index()\n",
    "carpass_taxi_split_bypurpose.columns = ['Mode', 'TripPurpose', 'Percentage']\n",
    "carpass_taxi_split_bypurpose"
   ]
  },
  {
   "cell_type": "markdown",
   "metadata": {},
   "source": [
    "## Export"
   ]
  },
  {
   "cell_type": "code",
   "execution_count": 126,
   "metadata": {
    "collapsed": true
   },
   "outputs": [],
   "source": [
    "carpass_taxi_split_bypurpose.to_csv('../Building/Inputs/carpass_taxi_modesplit_byPurp.csv', index=False)"
   ]
  },
  {
   "cell_type": "code",
   "execution_count": null,
   "metadata": {
    "collapsed": true
   },
   "outputs": [],
   "source": []
  }
 ],
 "metadata": {
  "kernelspec": {
   "display_name": "Python [default]",
   "language": "python",
   "name": "python3"
  },
  "language_info": {
   "codemirror_mode": {
    "name": "ipython",
    "version": 3
   },
   "file_extension": ".py",
   "mimetype": "text/x-python",
   "name": "python",
   "nbconvert_exporter": "python",
   "pygments_lexer": "ipython3",
   "version": "3.6.1"
  }
 },
 "nbformat": 4,
 "nbformat_minor": 2
}
