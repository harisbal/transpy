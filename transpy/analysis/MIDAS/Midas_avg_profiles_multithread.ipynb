{
 "cells": [
  {
   "cell_type": "code",
   "execution_count": null,
   "metadata": {
    "collapsed": true
   },
   "outputs": [],
   "source": [
    "%matplotlib inline"
   ]
  },
  {
   "cell_type": "code",
   "execution_count": null,
   "metadata": {
    "collapsed": true
   },
   "outputs": [],
   "source": [
    "import os\n",
    "import pymysql\n",
    "import pandas as pd\n",
    "import numpy as np\n",
    "\n",
    "import matplotlib as plt"
   ]
  },
  {
   "cell_type": "code",
   "execution_count": null,
   "metadata": {
    "collapsed": true
   },
   "outputs": [],
   "source": [
    "infilepath = os.path.join('inputs', 'M1_detectors_Luton-to-MK.csv')\n",
    "detectors_xy = pd.read_csv(infilepath, index_col=0)"
   ]
  },
  {
   "cell_type": "code",
   "execution_count": null,
   "metadata": {
    "collapsed": true
   },
   "outputs": [],
   "source": [
    "def fetch_norm_sql(sql, conn):\n",
    "    print(sql, conn)\n",
    "    #df = pd.read_sql(sql, conn)\n",
    "    #df = clean_df(df)\n",
    "    #norm_data = normalise_data(df)\n",
    "    #df = norm_data['Lane']\n",
    "    #df_resampled = aggr_intervals(df, interval)\n",
    "    \n",
    "    #return df_resampled\n",
    "    return sql"
   ]
  },
  {
   "cell_type": "code",
   "execution_count": null,
   "metadata": {
    "collapsed": true
   },
   "outputs": [],
   "source": [
    "import multiprocessing\n",
    "from itertools import product\n",
    "\n",
    "if __name__ == '__main__':\n",
    "    \"\"\"\n",
    "    conn = pymysql.connect(host='TSCDSSQL01',\n",
    "                           user='haris',\n",
    "                           passwd='LihuvGPW4jgbEQ0AyVta!',\n",
    "                           db='MAIA')\n",
    "    \"\"\"\n",
    "    nprocs = 3\n",
    "    sql_detectors = list(detectors_xy.index.values)\n",
    "    sql_detectors = ['M1/2655A', 'M1/2662A']\n",
    "\n",
    "    sqls = []\n",
    "    for det in sql_detectors:\n",
    "        sql = \"SELECT * from midas_Co30_all_2015 WHERE Geographic_Address = '{}'\".format(det)\n",
    "        sqls.append(sql)\n",
    "\n",
    "    conn = 1\n",
    "\n",
    "    with multiprocessing.Pool(processes=1) as pool:\n",
    "        res = pool.starmap(fetch_norm_sql, product(sql_detectors, repeat=2))\n",
    "\n",
    "    #conn.close()\n",
    "\n",
    "    #midas = pd.concat(dfs)\n"
   ]
  },
  {
   "cell_type": "code",
   "execution_count": null,
   "metadata": {
    "collapsed": true
   },
   "outputs": [],
   "source": [
    "pd.set_option('display.max_columns', 100)\n",
    "pd.set_option('display.max_colwidth', 50)"
   ]
  },
  {
   "cell_type": "code",
   "execution_count": null,
   "metadata": {
    "collapsed": true
   },
   "outputs": [],
   "source": [
    "def clean_df(df):\n",
    "    # Replace -1 with NaN, will be used to drop NaN columns\n",
    "    df.replace(-1, np.nan, inplace=True)\n",
    "    df.dropna(1, 'all', inplace=True)\n",
    "    cols_to_drop = ['CO_Address', 'LCC_Address', 'Transponder_Address', 'Device_Address', 'Number_of_Lanes']\n",
    "    df.drop(cols_to_drop, axis=1, inplace=True)\n",
    "    df.rename(columns={'Geographic_Address': 'GA'}, inplace=True)\n",
    "    return df"
   ]
  },
  {
   "cell_type": "code",
   "execution_count": null,
   "metadata": {
    "collapsed": true,
    "scrolled": true
   },
   "outputs": [],
   "source": [
    "def normalise_data(df):\n",
    "    # Create a dictionary with the variable combinations\n",
    "    categories = dict()\n",
    "\n",
    "    for c in df:\n",
    "        if '_' in c:\n",
    "            var, cat, num = c.split('_', 2)\n",
    "            key = '{}-{}'.format(cat, var)\n",
    "\n",
    "            if key in categories:\n",
    "                categories[key].append(num)\n",
    "            else:\n",
    "                categories[key] = list(num)\n",
    "\n",
    "    d_results = dict()\n",
    "\n",
    "    id_vars = ['GA', 'Datetime']\n",
    "    for k in categories:\n",
    "        cat, var = k.split('-')\n",
    "        for c in df:\n",
    "            if (cat in c) and (var in c):\n",
    "                value_vars = list()\n",
    "                for n in categories[k]:\n",
    "                    col_name = '{}_{}_{}'.format(var, cat, n)\n",
    "                    value_vars.append(col_name)\n",
    "\n",
    "        cols_tmp = [*id_vars, *value_vars]\n",
    "        \n",
    "        dft = df[cols_tmp]\n",
    "        dft = pd.melt(dft, id_vars=id_vars, value_vars=value_vars , var_name=cat, value_name=var)\n",
    "        dft[cat].replace(regex=True, to_replace=r'\\D', value=r'', inplace=True)\n",
    "        dft[cat] = dft[cat].astype('int')\n",
    "        dft.set_index(list(dft.columns[:-1]), inplace=True)\n",
    "        \n",
    "        # Dictionary with all the results\n",
    "        d_results.setdefault(cat, {})[var] = dft\n",
    "    \n",
    "    data = {}\n",
    "    for k1 in d_results:\n",
    "        dfs = []\n",
    "        for k2, v in d_results[k1].items():\n",
    "            dfs.append(v)\n",
    "        df = pd.concat(dfs, axis=1)\n",
    "        df = df.swaplevel(0, 1)\n",
    "        df.sort_index(inplace=True)\n",
    "        data[k1] = df\n",
    "    \n",
    "    return data"
   ]
  },
  {
   "cell_type": "code",
   "execution_count": null,
   "metadata": {
    "collapsed": true
   },
   "outputs": [],
   "source": [
    "def aggr_intervals(df, interval):\n",
    "    d_aggrs = {'Speed': 'mean', 'Flow':'sum', 'Occupancy':'mean', 'Headway':'mean'}\n",
    "    # Due to dropping during cleaning there is a chance a whole column is gone\n",
    "    # Restore with a NaN column\n",
    "    for k in d_aggrs:\n",
    "        if not k in df:\n",
    "            df.insert(0, k, np.nan)\n",
    "\n",
    "    df_resamped = df.reset_index(level=[1, 2]).groupby('GA').resample(interval).agg(d_aggrs)\n",
    "    df_resamped = df_resamped.round(2)\n",
    "    \n",
    "    return df_resamped"
   ]
  },
  {
   "cell_type": "markdown",
   "metadata": {},
   "source": [
    "# Imports"
   ]
  },
  {
   "cell_type": "code",
   "execution_count": null,
   "metadata": {
    "collapsed": true
   },
   "outputs": [],
   "source": [
    "conn = pymysql.connect(host='TSCDSSQL01',\n",
    "                       user='haris',\n",
    "                       passwd='LihuvGPW4jgbEQ0AyVta!',\n",
    "                       db='MAIA')\n",
    "cur = conn.cursor()\n",
    "\n",
    "interval = '15Min'\n",
    "\n",
    "dfs = []\n",
    "# Read the db and convert it to df\n",
    "for det in sql_detectors:\n",
    "    print('{}/{}'.format(i, len(sql_detectors)))\n",
    "    sql = \"SELECT * from midas_Co30_all_2015 WHERE Geographic_Address = '{}'\".format(det)   \n",
    "    df = pd.read_sql(sql, conn)\n",
    "    df = clean_df(df)\n",
    "    norm_data = normalise_data(df)\n",
    "    df = norm_data['Lane']\n",
    "    df_resampled = aggr_intervals(df, interval)\n",
    "    dfs.append(df_resampled)\n",
    "\n",
    "# Close the connection\n",
    "cur.close()\n",
    "conn.close()\n",
    "\n",
    "midas = pd.concat(dfs)"
   ]
  },
  {
   "cell_type": "code",
   "execution_count": null,
   "metadata": {
    "collapsed": true,
    "scrolled": true
   },
   "outputs": [],
   "source": [
    "conn = pymysql.connect(host='TSCDSSQL01',\n",
    "                       user='haris',\n",
    "                       passwd='LihuvGPW4jgbEQ0AyVta!',\n",
    "                       db='MAIA')\n",
    "cur = conn.cursor()\n",
    "\n",
    "interval = '15Min'\n",
    "\n",
    "dfs = []\n",
    "# Read the db and convert it to df\n",
    "i = 1\n",
    "for det in sql_detectors:\n",
    "    print('{}/{}'.format(i, len(sql_detectors)))\n",
    "    sql = \"SELECT * from midas_Co30_all_2015 WHERE Geographic_Address = '{}'\".format(det)   \n",
    "    df = pd.read_sql(sql, conn)\n",
    "    df = clean_df(df)\n",
    "    norm_data = normalise_data(df)\n",
    "    df = norm_data['Lane']\n",
    "    df_resampled = aggr_intervals(df, interval)\n",
    "    dfs.append(df_resampled)\n",
    "    i += 1\n",
    "# Close the connection\n",
    "cur.close()\n",
    "conn.close()\n",
    "\n",
    "midas = pd.concat(dfs)"
   ]
  },
  {
   "cell_type": "code",
   "execution_count": null,
   "metadata": {
    "collapsed": true,
    "scrolled": true
   },
   "outputs": [],
   "source": [
    "dfs"
   ]
  },
  {
   "cell_type": "code",
   "execution_count": null,
   "metadata": {
    "collapsed": true
   },
   "outputs": [],
   "source": [
    "# Check for columns that contain nans\n",
    "print('Check for columns with nans\\n', midas.isnull().any())"
   ]
  },
  {
   "cell_type": "code",
   "execution_count": null,
   "metadata": {
    "collapsed": true
   },
   "outputs": [],
   "source": [
    "midas.memory_usage()"
   ]
  },
  {
   "cell_type": "code",
   "execution_count": null,
   "metadata": {
    "collapsed": true
   },
   "outputs": [],
   "source": [
    "sql_detectors = tuple(detectors_xy.index.values)"
   ]
  },
  {
   "cell_type": "code",
   "execution_count": null,
   "metadata": {
    "collapsed": true
   },
   "outputs": [],
   "source": [
    "sql"
   ]
  },
  {
   "cell_type": "code",
   "execution_count": null,
   "metadata": {
    "collapsed": true
   },
   "outputs": [],
   "source": [
    "%%time\n",
    "\n",
    "conn = pymysql.connect(host='TSCDSSQL01',\n",
    "                       user='haris',\n",
    "                       passwd='LihuvGPW4jgbEQ0AyVta!',\n",
    "                       db='MAIA')\n",
    "cur = conn.cursor()\n",
    "\n",
    "interval = '15Min'\n",
    "\n",
    "# Read the db and convert it to df\n",
    "sql = \"SELECT * from midas_Co30_all_2015 WHERE Geographic_Address IN {}\".format(sql_detectors)\n",
    "df = pd.read_sql(sql, conn)\n",
    "\n",
    "# Close the connection\n",
    "cur.close()\n",
    "conn.close()\n",
    "\n",
    "df = clean_df(df)\n",
    "midas = normalise_data(df)\n",
    "\n",
    "df = midas['Lane']\n",
    "df_resampled = aggr_intervals(df, '15Min')"
   ]
  },
  {
   "cell_type": "markdown",
   "metadata": {},
   "source": [
    "# Cleaning"
   ]
  },
  {
   "cell_type": "markdown",
   "metadata": {},
   "source": [
    "# Analysis"
   ]
  },
  {
   "cell_type": "code",
   "execution_count": null,
   "metadata": {
    "collapsed": true,
    "scrolled": true
   },
   "outputs": [],
   "source": [
    "midas"
   ]
  },
  {
   "cell_type": "code",
   "execution_count": null,
   "metadata": {
    "collapsed": true,
    "scrolled": true
   },
   "outputs": [],
   "source": [
    "midas.memory_usage()"
   ]
  },
  {
   "cell_type": "code",
   "execution_count": null,
   "metadata": {
    "collapsed": true
   },
   "outputs": [],
   "source": []
  },
  {
   "cell_type": "code",
   "execution_count": null,
   "metadata": {
    "collapsed": true
   },
   "outputs": [],
   "source": []
  },
  {
   "cell_type": "code",
   "execution_count": null,
   "metadata": {
    "collapsed": true
   },
   "outputs": [],
   "source": [
    "idxslc = pd.IndexSlice"
   ]
  },
  {
   "cell_type": "code",
   "execution_count": null,
   "metadata": {
    "collapsed": true,
    "scrolled": true
   },
   "outputs": [],
   "source": [
    "df = data['Lane']"
   ]
  },
  {
   "cell_type": "code",
   "execution_count": null,
   "metadata": {
    "collapsed": true,
    "scrolled": true
   },
   "outputs": [],
   "source": [
    "df.head(2)"
   ]
  },
  {
   "cell_type": "code",
   "execution_count": null,
   "metadata": {
    "collapsed": true,
    "scrolled": true
   },
   "outputs": [],
   "source": [
    "df_lanes_avg = df.groupby(level=[0,1]).mean()"
   ]
  },
  {
   "cell_type": "code",
   "execution_count": null,
   "metadata": {
    "collapsed": true
   },
   "outputs": [],
   "source": []
  },
  {
   "cell_type": "code",
   "execution_count": null,
   "metadata": {
    "collapsed": true,
    "scrolled": true
   },
   "outputs": [],
   "source": []
  },
  {
   "cell_type": "code",
   "execution_count": null,
   "metadata": {
    "collapsed": true
   },
   "outputs": [],
   "source": [
    "df = df_resamped.copy()"
   ]
  },
  {
   "cell_type": "code",
   "execution_count": null,
   "metadata": {
    "collapsed": true
   },
   "outputs": [],
   "source": [
    "dg = dict(zip(df.index.get_level_values('Datetime'), df.index.get_level_values('Datetime').time))"
   ]
  },
  {
   "cell_type": "code",
   "execution_count": null,
   "metadata": {
    "collapsed": true,
    "scrolled": true
   },
   "outputs": [],
   "source": [
    "avg_profiles = df.groupby([None, dg], level=[0,1]).mean()"
   ]
  },
  {
   "cell_type": "code",
   "execution_count": null,
   "metadata": {
    "collapsed": true
   },
   "outputs": [],
   "source": [
    "avg_profiles.describe()"
   ]
  },
  {
   "cell_type": "code",
   "execution_count": null,
   "metadata": {
    "collapsed": true,
    "scrolled": true
   },
   "outputs": [],
   "source": [
    "avg_profiles.plot.scatter(0, 1)"
   ]
  },
  {
   "cell_type": "code",
   "execution_count": null,
   "metadata": {
    "collapsed": true,
    "scrolled": true
   },
   "outputs": [],
   "source": [
    "dft = df_resamped.loc[idxslc['M1/2655A', '2015-04-13'], :]\n",
    "dft.reset_index(level=0).groupby('GA').resample('10Min').mean()\n",
    "\n",
    "dg = dict(zip(df.index.get_level_values('Datetime'), df.index.get_level_values('Datetime').time))\n",
    "dftg = dft.groupby([None, dg], level=[0,1]).mean()\n",
    "dftg"
   ]
  },
  {
   "cell_type": "code",
   "execution_count": null,
   "metadata": {
    "collapsed": true
   },
   "outputs": [],
   "source": [
    "dftg.sub(avg_profiles).dropna().Speed.plot()"
   ]
  },
  {
   "cell_type": "code",
   "execution_count": null,
   "metadata": {
    "collapsed": true
   },
   "outputs": [],
   "source": []
  },
  {
   "cell_type": "code",
   "execution_count": null,
   "metadata": {
    "collapsed": true
   },
   "outputs": [],
   "source": []
  },
  {
   "cell_type": "code",
   "execution_count": null,
   "metadata": {
    "collapsed": true
   },
   "outputs": [],
   "source": [
    "def update_plot(data, var, timerange, freq):    \n",
    "    \n",
    "    var=list(var)\n",
    "    df = data[var]\n",
    "    start_time = timerange[0]\n",
    "    end_time = timerange[1]\n",
    "    \n",
    "    df = df.between_time(timerange[0], timerange[1])\n",
    "\n",
    "    if freq > 0:\n",
    "        freq = '{}Min'.format(freq)\n",
    "        dfg = df.groupby(pd.Grouper(freq=freq)).mean()\n",
    "        #title = '{} - {}'.format(dfg.name, freq)\n",
    "        ax = dfg.plot()\n",
    "        #ax.set_ylabel(data.name)\n",
    "        return ax\n",
    "    else:\n",
    "        print('Frequency cannot be 0')\n",
    "        "
   ]
  },
  {
   "cell_type": "code",
   "execution_count": null,
   "metadata": {
    "collapsed": true
   },
   "outputs": [],
   "source": [
    "timerange = detector_data.index.strftime('%X')\n",
    "descr_time = 'Time:{} - {}'.format(timerange[0], timerange[-1])\n",
    "\n",
    "lyt=Layout(width='30%', height='30px')\n",
    "style = {'description_width': 'initial'}\n",
    "\n",
    "interact(update_plot, data=fixed(detector_data), \n",
    "         var=SelectMultiple(options=variables, value=[variables[0]], description='Variable:'),\n",
    "         timerange=SelectionRangeSlider(options=timerange, value=(timerange[0], timerange[-1]), description=descr_time, style=style, layout=lyt),\n",
    "         freq=IntSlider(min=0, max=180, step=5, value=5, description='Freq:', layout=lyt),\n",
    "        )\n"
   ]
  },
  {
   "cell_type": "code",
   "execution_count": null,
   "metadata": {
    "collapsed": true
   },
   "outputs": [],
   "source": [
    "widgets.SelectMultiple(\n",
    "    options=['Apples', 'Oranges', 'Pears'],\n",
    "    value=['Oranges'],\n",
    "    #rows=10,\n",
    "    description='Fruits',\n",
    "    disabled=False"
   ]
  },
  {
   "cell_type": "code",
   "execution_count": null,
   "metadata": {
    "collapsed": true
   },
   "outputs": [],
   "source": []
  }
 ],
 "metadata": {
  "kernelspec": {
   "display_name": "Python 3",
   "language": "python",
   "name": "python3"
  },
  "language_info": {
   "codemirror_mode": {
    "name": "ipython",
    "version": 3
   },
   "file_extension": ".py",
   "mimetype": "text/x-python",
   "name": "python",
   "nbconvert_exporter": "python",
   "pygments_lexer": "ipython3",
   "version": "3.6.3"
  }
 },
 "nbformat": 4,
 "nbformat_minor": 2
}
